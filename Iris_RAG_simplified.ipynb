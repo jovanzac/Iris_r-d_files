{
 "cells": [
  {
   "cell_type": "code",
   "execution_count": 1,
   "id": "7e2a67bc",
   "metadata": {},
   "outputs": [],
   "source": [
    "import nest_asyncio\n",
    "import asyncio\n",
    "\n",
    "nest_asyncio.apply()"
   ]
  },
  {
   "cell_type": "code",
   "execution_count": 2,
   "id": "d45e73da",
   "metadata": {},
   "outputs": [
    {
     "data": {
      "text/plain": [
       "True"
      ]
     },
     "execution_count": 2,
     "metadata": {},
     "output_type": "execute_result"
    }
   ],
   "source": [
    "import os\n",
    "from dotenv import load_dotenv\n",
    "load_dotenv(override=True)"
   ]
  },
  {
   "cell_type": "code",
   "execution_count": 105,
   "id": "d855b0d8",
   "metadata": {},
   "outputs": [],
   "source": [
    "import re\n",
    "import time\n",
    "import json\n",
    "import base64\n",
    "from redis import Redis\n",
    "\n",
    "from llama_index.llms.groq import Groq\n",
    "from llama_index.embeddings.huggingface_optimum import OptimumEmbedding\n",
    "from redisvl.schema import IndexSchema\n",
    "from llama_index.vector_stores.redis import RedisVectorStore\n",
    "from llama_index.storage.docstore.redis import RedisDocumentStore\n",
    "from llama_index.core import StorageContext, load_index_from_storage\n",
    "from llama_index.core import VectorStoreIndex, SimpleKeywordTableIndex\n",
    "from llama_index.retrievers.bm25 import BM25Retriever\n",
    "from llama_index.core.retrievers import AutoMergingRetriever, QueryFusionRetriever\n",
    "from llama_index.core.query_engine import RetrieverQueryEngine\n",
    "from llama_index.core import PromptTemplate\n",
    "\n",
    "from llama_index.core.tools import QueryEngineTool, BaseTool, FunctionTool, ToolMetadata\n",
    "from llama_index.core import Settings\n",
    "from llama_index.core.agent import ReActAgent\n",
    "\n",
    "from llama_index.core.response.notebook_utils import display_source_node"
   ]
  },
  {
   "cell_type": "code",
   "execution_count": 92,
   "id": "6d4a3a2b",
   "metadata": {},
   "outputs": [],
   "source": [
    "os.environ[\"GROQ_API_KEY\"] = os.environ.get(\"GROQ_API_KEY\")"
   ]
  },
  {
   "cell_type": "code",
   "execution_count": 4,
   "id": "3c7b6e44",
   "metadata": {},
   "outputs": [],
   "source": [
    "\"\"\" Convert Images to a base64 string\n",
    "\"\"\"\n",
    "def image_to_base64(image_path) :\n",
    "    with open(image_path, \"rb\") as image_file:\n",
    "        return base64.b64encode(image_file.read()).decode('utf-8')"
   ]
  },
  {
   "cell_type": "code",
   "execution_count": 17,
   "id": "4efcf7fa",
   "metadata": {},
   "outputs": [],
   "source": [
    "# Initializing llama for inference as the base llm\n",
    "groq_text_llm = Groq(model=\"llama3-70b-8192\", api_key=os.environ.get(\"GROQ_API_KEY\"))"
   ]
  },
  {
   "cell_type": "code",
   "execution_count": 16,
   "id": "f4b64575",
   "metadata": {},
   "outputs": [],
   "source": [
    "# Setting groq globally in llamaindex as thr primary llm\n",
    "Settings.llm = groq_text_llm"
   ]
  },
  {
   "cell_type": "code",
   "execution_count": 15,
   "id": "e99b9af6",
   "metadata": {},
   "outputs": [
    {
     "data": {
      "text/plain": [
       "'The capital of France is Paris.'"
      ]
     },
     "execution_count": 15,
     "metadata": {},
     "output_type": "execute_result"
    }
   ],
   "source": [
    "res = groq_text_llm.complete(\"What is the capital of France?\")\n",
    "res.text"
   ]
  },
  {
   "cell_type": "code",
   "execution_count": 18,
   "id": "95aef15e",
   "metadata": {},
   "outputs": [],
   "source": [
    "\"\"\"\n",
    "Setting up the groq llm for inference on images\n",
    "\"\"\"\n",
    "\n",
    "from groq import Groq\n",
    "\n",
    "groq_client = Groq()\n",
    "\n",
    "IMG_DESC_PROMPT = (\n",
    "    'Please describe the image as if you are explaining it to a blind child.'\n",
    "    '- Use simple and friendly words.'\n",
    "    '- Describe the scene in detail, including colors, shapes, people, objects, animals, and background.'  \n",
    "    '- Share the emotions or feelings in the scene, if any.'\n",
    "    '- Make the description vivid so they can \"see\" the image in their mind.'\n",
    "    '- Do not use technical terms or complicated words.'\n",
    "    '- Be descriptive but keep it concise, as if telling a story.'\n",
    "    \"\"\"- **Only provide the description of the image itself. Do not add introductory phrases like \"Here's a description...\" or closing phrases like \"Would you like me to explain more?\".**\"\"\"\n",
    ")\n",
    "\n",
    "def get_multimodal_response(\n",
    "        client,\n",
    "        image_str,\n",
    "        text = IMG_DESC_PROMPT\n",
    "    ) :\n",
    "    completion = client.chat.completions.create(\n",
    "        model=\"llama-3.2-11b-vision-preview\",\n",
    "        messages=[\n",
    "            {\n",
    "                \"role\": \"user\",\n",
    "                \"content\": [\n",
    "                    {\n",
    "                        \"type\": \"text\",\n",
    "                        \"text\": text\n",
    "                    },\n",
    "                    {\n",
    "                        \"type\": \"image_url\",\n",
    "                        \"image_url\": {\n",
    "                            \"url\": f\"data:image/jpeg;base64,{image_str}\"\n",
    "                        }\n",
    "                    }\n",
    "                ]\n",
    "            }\n",
    "        ],\n",
    "        max_tokens=1024,\n",
    "        top_p=1,\n",
    "        stream=False,\n",
    "        stop=None,\n",
    "    )\n",
    "    \n",
    "    return completion.choices[0].message"
   ]
  },
  {
   "cell_type": "code",
   "execution_count": 21,
   "id": "f6add5ad",
   "metadata": {},
   "outputs": [
    {
     "name": "stdout",
     "output_type": "stream",
     "text": [
      "The image depicts a pencil sketch of a group of people standing behind two desks, with a projector screen behind them. The sketch is done in a cartoon style and features black lines and shading.\n",
      "\n",
      "In the foreground, there are two white desks with papers on them. Behind the desks, a group of seven people stand together, all wearing light-colored jackets. They appear to be celebrating something, as they are smiling and embracing each other. \n",
      "\n",
      "Behind the group, a projector screen hangs on the wall, although it does not seem to be in use. The background of the image is a solid white, providing a clean and neutral backdrop for the scene.\n",
      "\n",
      "Overall, the image suggests a joyful and celebratory atmosphere, with the group of people gathered together to mark a special occasion. \n",
      "\n",
      "We can tell that the people are happy because they are smiling and hugging each other. The fact that they are standing in front of the projector screen also suggests that they may be watching a presentation or slideshow together.\n"
     ]
    }
   ],
   "source": [
    "# Sample inference on an image\n",
    "img_str = image_to_base64(\"./figures/figure-9-28.jpg\")\n",
    "res = get_multimodal_response(\n",
    "    groq_client,\n",
    "    img_str\n",
    ")\n",
    "print(res.content)"
   ]
  },
  {
   "cell_type": "markdown",
   "id": "6267222b",
   "metadata": {},
   "source": [
    "## Retrieval for RAG"
   ]
  },
  {
   "cell_type": "markdown",
   "id": "a4b445ca",
   "metadata": {},
   "source": [
    "### Initializing embeddign model and redis"
   ]
  },
  {
   "cell_type": "code",
   "execution_count": 25,
   "id": "aa24e327",
   "metadata": {},
   "outputs": [],
   "source": [
    "\"\"\"\n",
    "Initializing the custom embedding model\n",
    "\"\"\"\n",
    "\n",
    "if not os.path.isdir(\"./gist_onnx\") :\n",
    "    OptimumEmbedding.create_and_save_optimum_model(\n",
    "        \"avsolatorio/GIST-Embedding-v0\", \"./gist_onnx\", export_kwargs={'trust_remote_code': True}\n",
    "    )\n",
    "embed_model = OptimumEmbedding(\n",
    "    folder_name=\"./gist_onnx\"\n",
    ")"
   ]
  },
  {
   "cell_type": "code",
   "execution_count": 28,
   "id": "6d9e3b1f",
   "metadata": {},
   "outputs": [],
   "source": [
    "custom_schema = IndexSchema.from_dict(\n",
    "    {\n",
    "        \"index\": {\"name\": \"school_data_auto_bm25\", \"prefix\": \"school_doc\"},\n",
    "        # customize fields that are indexed\n",
    "        \"fields\": [\n",
    "            # required fields for llamaindex\n",
    "            {\"type\": \"tag\", \"name\": \"id\"},\n",
    "            {\"type\": \"tag\", \"name\": \"doc_id\"},\n",
    "            {\"type\": \"text\", \"name\": \"text\"},\n",
    "            # custom vector field for bge-small-en-v1.5 embeddings\n",
    "            {\n",
    "                \"type\": \"vector\",\n",
    "                \"name\": \"vector\",\n",
    "                \"attrs\": {\n",
    "                    \"dims\": 768,\n",
    "                    \"algorithm\": \"hnsw\",\n",
    "                    \"distance_metric\": \"cosine\",\n",
    "                },\n",
    "            },\n",
    "        ],\n",
    "    }\n",
    ")"
   ]
  },
  {
   "cell_type": "code",
   "execution_count": 31,
   "id": "6ceea253",
   "metadata": {},
   "outputs": [],
   "source": [
    "redis_client = Redis.from_url(\"redis://localhost:6379\")"
   ]
  },
  {
   "cell_type": "code",
   "execution_count": 35,
   "id": "557d956d",
   "metadata": {},
   "outputs": [
    {
     "name": "stdout",
     "output_type": "stream",
     "text": [
      "19:42:31 redisvl.index.index INFO   Index already exists, not overwriting.\n"
     ]
    }
   ],
   "source": [
    "vector_store = RedisVectorStore(\n",
    "    schema=custom_schema,\n",
    "    redis_client=redis_client,\n",
    ")"
   ]
  },
  {
   "cell_type": "markdown",
   "id": "476c7bcc",
   "metadata": {},
   "source": [
    "## Setting up the retrievers"
   ]
  },
  {
   "cell_type": "code",
   "execution_count": 38,
   "id": "aca8132a",
   "metadata": {},
   "outputs": [],
   "source": [
    "auto_docstore = RedisDocumentStore.from_host_and_port(\n",
    "    \"localhost\", 6379, namespace=\"document_store_auto\"\n",
    ")\n",
    "bm25_docstore = RedisDocumentStore.from_host_and_port(\n",
    "    \"localhost\", 6379, namespace=\"document_store_bm25\"\n",
    ")"
   ]
  },
  {
   "cell_type": "code",
   "execution_count": 40,
   "id": "381260a7",
   "metadata": {},
   "outputs": [],
   "source": [
    "# This is for Read mode and Quiz mode\n",
    "wfw_docstore = RedisDocumentStore.from_host_and_port(\n",
    "    \"localhost\", 6379, namespace=\"all_nodes\"\n",
    ")"
   ]
  },
  {
   "cell_type": "code",
   "execution_count": 41,
   "id": "bb2d89ec",
   "metadata": {},
   "outputs": [
    {
     "name": "stdout",
     "output_type": "stream",
     "text": [
      "5660\n",
      "1264\n",
      "1621\n"
     ]
    }
   ],
   "source": [
    "print(len(auto_docstore.docs.items()))\n",
    "print(len(bm25_docstore.docs.items()))\n",
    "print(len(wfw_docstore.docs.items()))"
   ]
  },
  {
   "cell_type": "markdown",
   "id": "af15c3aa",
   "metadata": {},
   "source": [
    "### Setting up storage context and index for auto merging retriever"
   ]
  },
  {
   "cell_type": "code",
   "execution_count": 44,
   "id": "2f3bcbf7",
   "metadata": {},
   "outputs": [],
   "source": [
    "auto_storage_context = StorageContext.from_defaults(docstore=auto_docstore, vector_store=vector_store)"
   ]
  },
  {
   "cell_type": "code",
   "execution_count": 47,
   "id": "f0fee34f",
   "metadata": {},
   "outputs": [],
   "source": [
    "auto_index = VectorStoreIndex.from_vector_store(\n",
    "    vector_store=vector_store,\n",
    "    embed_model=embed_model\n",
    ")"
   ]
  },
  {
   "cell_type": "markdown",
   "id": "6bfdd31c",
   "metadata": {},
   "source": [
    "## Setting up retriever for QNA"
   ]
  },
  {
   "cell_type": "code",
   "execution_count": 50,
   "id": "b086ee79",
   "metadata": {},
   "outputs": [],
   "source": [
    "bm25_retriever = BM25Retriever.from_defaults(\n",
    "    docstore=bm25_docstore,\n",
    "    similarity_top_k=5,\n",
    ")"
   ]
  },
  {
   "cell_type": "code",
   "execution_count": 53,
   "id": "189bcb1c",
   "metadata": {},
   "outputs": [],
   "source": [
    "base_retriever = auto_index.as_retriever(similarity_top_k=5)\n",
    "auto_retriever = AutoMergingRetriever(base_retriever, auto_storage_context, verbose=True)"
   ]
  },
  {
   "cell_type": "code",
   "execution_count": 58,
   "id": "dd33ae98",
   "metadata": {},
   "outputs": [
    {
     "data": {
      "text/markdown": [
       "**Node ID:** 1ea14154-a3e1-44f1-a7c5-5d6bfdd78e0b<br>**Similarity:** 0.8179242014879999<br>**Text:** Breathing is a part of the process of respiration during which an organism takes in oxygen-rich air and gives out air rich in carbon dioxide. The respiratory organs for the exchange of gases vary in different organisms.\n",
       "\n",
       "During inhalation, our lungs expand and then come back to their original state as the air moves out during exhalation. Increased physical activity enhances the rate of breathing.<br>"
      ],
      "text/plain": [
       "<IPython.core.display.Markdown object>"
      ]
     },
     "metadata": {},
     "output_type": "display_data"
    },
    {
     "data": {
      "text/markdown": [
       "**Node ID:** c5b385aa-d51c-4fa5-8d14-798eb58901d2<br>**Similarity:** 0.817614495754<br>**Text:** In this chapter, you learned that respiration is a vital biological process.\n",
       "\n",
       "Keywords: Aerobic respiration, Diaphragm, Inhalation, Anaerobic respiration, Exhalation, Spiracles, Breathing rate, Gills, Tracheae, Cellular respiration, Lungs, Ribs\n",
       "\n",
       "What you have learned: Respiration is essential for the survival of living organisms.<br>"
      ],
      "text/plain": [
       "<IPython.core.display.Markdown object>"
      ]
     },
     "metadata": {},
     "output_type": "display_data"
    },
    {
     "data": {
      "text/markdown": [
       "**Node ID:** a9bcd1aa-c626-4011-953a-ffa8011c2c18<br>**Similarity:** 0.795041799545<br>**Text:** He wondered why running makes a person breathe faster. The answer to Boojho's question lies in understanding why we breathe. Breathing is a part of respiration. Let us learn about respiration.\n",
       "\n",
       "6.1 Why Do We Respire?\n",
       "\n",
       "In Chapter 2, you learnt that all organisms are made of small microscopic units called cells.<br>"
      ],
      "text/plain": [
       "<IPython.core.display.Markdown object>"
      ]
     },
     "metadata": {},
     "output_type": "display_data"
    },
    {
     "data": {
      "text/markdown": [
       "**Node ID:** 9ab9a3ca-f7fc-42ab-b79d-ab06d9eb0d4a<br>**Similarity:** 0.790514349937<br>**Text:** It releases energy from the food. The oxygen we inhale is used to break down glucose into carbon dioxide and water. Energy is released in the process. The breakdown of glucose occurs in the cells of an organism (cellular respiration). If the food is broken down with the use of oxygen, it is called aerobic respiration.<br>"
      ],
      "text/plain": [
       "<IPython.core.display.Markdown object>"
      ]
     },
     "metadata": {},
     "output_type": "display_data"
    },
    {
     "data": {
      "text/markdown": [
       "**Node ID:** 901bf311-47b6-49cd-af15-d6f802d52127<br>**Similarity:** 0.785313129425<br>**Text:** Thus, more oxygen can be supplied to the body cells, resulting in the release of more energy.\n",
       "\n",
       "RESPIRATION IN ORGANISMS 63\n",
       "\n",
       "Fig. 6.6 Measuring chest size\n",
       "Fig. 6.7 Model to show mechanism of breathing<br>"
      ],
      "text/plain": [
       "<IPython.core.display.Markdown object>"
      ]
     },
     "metadata": {},
     "output_type": "display_data"
    }
   ],
   "source": [
    "\"\"\" Tesing auto merging retriever\n",
    "\"\"\"\n",
    "query_str = \"What is respiration?\"\n",
    "retrieved_nodes = auto_retriever.retrieve(query_str)\n",
    "\n",
    "for node in retrieved_nodes:\n",
    "    display_source_node(node, source_length=5000)"
   ]
  },
  {
   "cell_type": "code",
   "execution_count": 57,
   "id": "5c1f875b",
   "metadata": {},
   "outputs": [
    {
     "data": {
      "text/markdown": [
       "**Node ID:** 0eca3590-558b-4e5c-a59a-c1c5daad4bfb<br>**Similarity:** 4.269379138946533<br>**Text:** Is it to attract insects? Water. Insects visit flowers and carry away pollen on their bodies. Some of the pollen lands on the stigma of a flower of the same kind. The transfer of pollen from the anther to the stigma of a flower (a) is called pollination. If the pollen lands (b) on the stigma of the same flower or another flower of the same plant, it is called self-pollination. When the pollen of a flower lands on the stigma of a flower of a different plant of the same kind, it is called cross-pollination [Fig.<br>"
      ],
      "text/plain": [
       "<IPython.core.display.Markdown object>"
      ]
     },
     "metadata": {},
     "output_type": "display_data"
    },
    {
     "data": {
      "text/markdown": [
       "**Node ID:** 750ef717-0455-4835-bae9-57e808ba550f<br>**Similarity:** 2.7358949184417725<br>**Text:** 8.7 Reproduction through spore formation in fungus\n",
       "\n",
       "REPRODUCTION IN PLANTS 85\n",
       "\n",
       "\n",
       "Activity 8.4: Male and female unisexual flowers may be present in the same plant or in different plants. Take a mustard/China rose/petunia flower and separate its reproductive parts. Study the various parts of a stamen and pistil. Anther contains pollen grains which produce male gametes. A pistil consists of stigma, style, and ovary. Ovary contains one or more ovules. The female gamete or the egg is formed in an ovule [Fig. 8.9 (b)]. In sexual reproduction, a male and a female gamete fuse to form a zygote. Boojho wants to know how the male gamete in the pollen grain reaches the female gamete present in the ovule. Filament Pollination Generally, pollen grains have a tough protective coat which prevents them from drying up. Since pollen grains are light, they can be carried by wind or insects. Flowers which contain either only pistil or only stamens are called unisexual flowers. Flowers which contain both stamens and pistil are called bisexual flowers. Corn, papaya, and cucumber produce unisexual flowers, whereas mustard, rose, and petunia have bisexual flowers. Both male gamete in the pollen grain reaches the female gamete present in the ovule. Fig. 8.9 Reproductive parts\n",
       "Fig. 8.10 Pollination in flower\n",
       "\n",
       "\n",
       "Boojho wants to know why flowers are generally so colourful and fragrant.<br>"
      ],
      "text/plain": [
       "<IPython.core.display.Markdown object>"
      ]
     },
     "metadata": {},
     "output_type": "display_data"
    },
    {
     "data": {
      "text/markdown": [
       "**Node ID:** dfabf53c-772f-4bff-9775-b7ae92ce4ba7<br>**Similarity:** 1.463865876197815<br>**Text:** l Where is the fox? l How did it happen? l What is the fox thinking? l Who is the visitor? l What does she want to know? l What is the fox's reply? l What happens next? l Where is the goat? l Where is the fox now? l What is the goat thinking?<br>"
      ],
      "text/plain": [
       "<IPython.core.display.Markdown object>"
      ]
     },
     "metadata": {},
     "output_type": "display_data"
    },
    {
     "data": {
      "text/markdown": [
       "**Node ID:** 5d22bbb3-9d98-43e3-a527-3a50e3a46841<br>**Similarity:** 1.254267692565918<br>**Text:** (a) What is the minimum interior angle possible for a regular polygon? Why? (b) What is the maximum exterior angle possible for a regular polygon?<br>"
      ],
      "text/plain": [
       "<IPython.core.display.Markdown object>"
      ]
     },
     "metadata": {},
     "output_type": "display_data"
    },
    {
     "data": {
      "text/markdown": [
       "**Node ID:** 71a9735d-268f-4153-b48c-d92b36d7ed08<br>**Similarity:** 1.1815235614776611<br>**Text:** 4. “I could feel his anguish.” What could be the anguish? 5. What endeared the scientist to the writer so that he said he was looking at one of the most beautiful men in the world? 6. Read aloud the description of ‘the beautiful’ man. Which is the most beautiful sentence in the description?<br>"
      ],
      "text/plain": [
       "<IPython.core.display.Markdown object>"
      ]
     },
     "metadata": {},
     "output_type": "display_data"
    }
   ],
   "source": [
    "\"\"\" Tesing bm25 retriever\n",
    "\"\"\"\n",
    "query_str = \"What is pollination?\"\n",
    "retrieved_nodes = bm25_retriever.retrieve(query_str)\n",
    "\n",
    "for node in retrieved_nodes:\n",
    "    display_source_node(node, source_length=5000)"
   ]
  },
  {
   "cell_type": "code",
   "execution_count": 59,
   "id": "d49ade00",
   "metadata": {},
   "outputs": [],
   "source": [
    "fusion_retriever = QueryFusionRetriever(\n",
    "    [auto_retriever, bm25_retriever],\n",
    "    similarity_top_k=3,\n",
    "    num_queries=4,  # set this to 1 to disable query generation\n",
    "    mode=\"reciprocal_rerank\",\n",
    "    use_async=True,\n",
    "    verbose=True,\n",
    ")"
   ]
  },
  {
   "cell_type": "code",
   "execution_count": 60,
   "id": "48d9121a",
   "metadata": {},
   "outputs": [
    {
     "name": "stdout",
     "output_type": "stream",
     "text": [
      "Generated queries:\n",
      "Here are three search queries related to the input query:\n",
      "What is the process of pollination in plants?\n",
      "How do bees and other insects contribute to pollination?\n",
      "What are the different types of pollination, including self-pollination and cross-pollination?\n"
     ]
    },
    {
     "data": {
      "text/markdown": [
       "**Node ID:** 0eca3590-558b-4e5c-a59a-c1c5daad4bfb<br>**Similarity:** 0.05<br>**Text:** Is it to attract insects? Water. Insects visit flowers and carry away pollen on their bodies. Some of the pollen lands on the stigma of a flower of the same kind. The transfer of pollen from the anther to the stigma of a flower (a) is called pollination. If the pollen lands (b) on the stigma of the same flower or another flower of the same plant, it is called self-pollination. When the pollen of a flower lands on the stigma of a flower of a different plant of the same kind, it is called cross-pollination [Fig.<br>"
      ],
      "text/plain": [
       "<IPython.core.display.Markdown object>"
      ]
     },
     "metadata": {},
     "output_type": "display_data"
    },
    {
     "data": {
      "text/markdown": [
       "**Node ID:** e48be09a-df7a-4256-a3c0-f23ac120c607<br>**Similarity:** 0.04946236559139785<br>**Text:** Some of the pollen lands on the stigma of a flower of the same kind. The transfer of pollen from the anther to the stigma of a flower (a) is called pollination. If the pollen lands (b) on the stigma of the same flower or another flower of the same plant, it is called self-pollination.<br>"
      ],
      "text/plain": [
       "<IPython.core.display.Markdown object>"
      ]
     },
     "metadata": {},
     "output_type": "display_data"
    },
    {
     "data": {
      "text/markdown": [
       "**Node ID:** 98c8b081-851a-45c5-becb-cddde066e986<br>**Similarity:** 0.04839549075403121<br>**Text:** Fig. 8.9 Reproductive parts\n",
       "Fig. 8.10 Pollination in flower<br>"
      ],
      "text/plain": [
       "<IPython.core.display.Markdown object>"
      ]
     },
     "metadata": {},
     "output_type": "display_data"
    }
   ],
   "source": [
    "\"\"\" Testing fusion retriever\n",
    "\"\"\"\n",
    "query_str = \"What is the definition of pollination?\"\n",
    "retrieved_nodes = fusion_retriever.retrieve(query_str)\n",
    "\n",
    "for node in retrieved_nodes:\n",
    "    display_source_node(node, source_length=5000)"
   ]
  },
  {
   "cell_type": "markdown",
   "id": "01492e49",
   "metadata": {},
   "source": [
    "## Setting up retrievers for Word for word retrieval"
   ]
  },
  {
   "cell_type": "code",
   "execution_count": 63,
   "id": "0585e59e",
   "metadata": {},
   "outputs": [
    {
     "data": {
      "text/plain": [
       "1621"
      ]
     },
     "execution_count": 63,
     "metadata": {},
     "output_type": "execute_result"
    }
   ],
   "source": [
    "all_node_ids = list(wfw_docstore.docs.keys())\n",
    "len(all_node_ids)"
   ]
  },
  {
   "cell_type": "code",
   "execution_count": 61,
   "id": "aaee6708",
   "metadata": {},
   "outputs": [],
   "source": [
    "def get_nodes_by_meta(filter_metadata) :\n",
    "    filtered_nodes = []\n",
    "    for node_id in all_node_ids:\n",
    "        node = wfw_docstore.get_node(node_id)\n",
    "        filter_conditions = [node.metadata.get(key) == value for key, value in filter_metadata.items()]\n",
    "        if all(filter_conditions) :\n",
    "            filtered_nodes.append(node)\n",
    "    \n",
    "    # Sort the nodes by page number\n",
    "    filtered_nodes = sorted(filtered_nodes, key=lambda node: (node.metadata[\"chapter\"], node.metadata[\"page_number\"]))\n",
    "            \n",
    "    return filtered_nodes"
   ]
  },
  {
   "cell_type": "code",
   "execution_count": 65,
   "id": "7e1184c9",
   "metadata": {},
   "outputs": [
    {
     "data": {
      "text/plain": [
       "[TextNode(id_='fb07daa3-df1c-4c53-9c19-82113a6a9c60', embedding=None, metadata={'chapter': 'Chapter1', 'subject': 'English', 'grade': '8th Standard', 'post_title': 'Chapter 1', 'post_description': 'The notes for chapter 1 have been uploaded', 'course_info': '8th Standard English', 'file_path': '/home/jovanzac/Jovan/OfflineProjects/Python/Machine_learning/RAG/Iris/ipynb_files/8_grade_texts/English/hehd101.pdf', 'file_name': 'hehd101.pdf', 'file_type': 'application/pdf', 'file_size': 2528583, 'creation_date': '2024-10-31', 'last_modified_date': '2024-10-31', 'page_number': 1, 'doc_type': 'Text'}, excluded_embed_metadata_keys=['image_path', 'doc_type', 'file_path', 'file_name', 'file_type', 'file_size', 'creation_date', 'last_modified_date', 'page_number', 'file_name', 'file_type', 'file_size', 'creation_date', 'last_modified_date', 'last_accessed_date'], excluded_llm_metadata_keys=['image_path', 'doc_type', 'file_path', 'file_name', 'file_type', 'file_size', 'creation_date', 'last_modified_date', 'page_number', 'file_name', 'file_type', 'file_size', 'creation_date', 'last_modified_date', 'last_accessed_date'], relationships={<NodeRelationship.PREVIOUS: '2'>: RelatedNodeInfo(node_id='7fd13c55-8658-4cd3-bdd0-1b4a41e4ef2c', node_type=None, metadata={'chapter': 'Chapter12', 'subject': 'Mathematics', 'grade': '8th Standard', 'post_title': 'Chapter 12', 'post_description': 'The notes for chapter 12 has been uploaded', 'course_info': '8th Standard Mathematics', 'file_path': '/home/jovanzac/Jovan/OfflineProjects/Python/Machine_learning/RAG/Iris/ipynb_files/8_grade_texts/mathematics/hemh112.pdf', 'file_name': 'hemh112.pdf', 'file_type': 'application/pdf', 'file_size': 837363, 'creation_date': '2024-10-31', 'last_modified_date': '2024-10-31', 'page_number': 10, 'doc_type': 'Text'}, hash=None), <NodeRelationship.NEXT: '3'>: RelatedNodeInfo(node_id='17251983-29c3-406a-973c-6a1da3c86cbb', node_type=None, metadata={'chapter': 'Chapter1', 'subject': 'English', 'grade': '8th Standard', 'post_title': 'Chapter 1', 'post_description': 'The notes for chapter 1 have been uploaded', 'course_info': '8th Standard English', 'file_path': '/home/jovanzac/Jovan/OfflineProjects/Python/Machine_learning/RAG/Iris/ipynb_files/8_grade_texts/English/hehd101.pdf', 'file_name': 'hehd101.pdf', 'file_type': 'application/pdf', 'file_size': 2528583, 'creation_date': '2024-10-31', 'last_modified_date': '2024-10-31', 'page_number': 2, 'doc_type': 'Text'}, hash=None), <NodeRelationship.CHILD: '5'>: [RelatedNodeInfo(node_id='8fa9247a-d1c4-4ca5-afa2-04279ca35dd6', node_type=None, metadata={'chapter': 'Chapter1', 'subject': 'English', 'grade': '8th Standard', 'post_title': 'Chapter 1', 'post_description': 'The notes for chapter 1 have been uploaded', 'course_info': '8th Standard English', 'file_path': '/home/jovanzac/Jovan/OfflineProjects/Python/Machine_learning/RAG/Iris/ipynb_files/8_grade_texts/English/hehd101.pdf', 'file_name': 'hehd101.pdf', 'file_type': 'application/pdf', 'file_size': 2528583, 'creation_date': '2024-10-31', 'last_modified_date': '2024-10-31', 'page_number': 1, 'doc_type': 'Image', 'image_path': './Static/3175e28c-ac85-4933-b9aa-9789e1284589/figures/figure-1-5.jpg'}, hash=None), RelatedNodeInfo(node_id='5cd6e455-6a49-4c4f-9cc9-0aea4addff3e', node_type=None, metadata={'chapter': 'Chapter1', 'subject': 'English', 'grade': '8th Standard', 'post_title': 'Chapter 1', 'post_description': 'The notes for chapter 1 have been uploaded', 'course_info': '8th Standard English', 'file_path': '/home/jovanzac/Jovan/OfflineProjects/Python/Machine_learning/RAG/Iris/ipynb_files/8_grade_texts/English/hehd101.pdf', 'file_name': 'hehd101.pdf', 'file_type': 'application/pdf', 'file_size': 2528583, 'creation_date': '2024-10-31', 'last_modified_date': '2024-10-31', 'page_number': 1, 'doc_type': 'Image', 'image_path': './Static/3175e28c-ac85-4933-b9aa-9789e1284589/figures/figure-1-6.jpg'}, hash=None)]}, text='Before you read, there are some dates or periods of time in the history of the world that are so significant that everyone knows and remembers them. The story you will read mentions one such date and event: a war between the British and the Germans in 1914. Can you guess which war it was? Do you know which events the dates below refer to? (a) 4 July 1776, (b) 17 December 1903, (c) 6 August 1945, (d) 30 January 1948, (e) 12 April 1961, (f) 20 July 1969. The answers are on page 23.\\n\\nI spotted it from a a junk shop in Bridport, a roll-top desk. The man said it was early nineteenth century, and oak. It was going for a high price, but I thought it was selling for very little money because it was in a bad condition, the roll-top in several pieces, one leg clumsily mended, scorch marks all down one side. I thought I could restore it. It would be a risk, a challenge, but I had to have it. I paid the man and brought it back to my workroom at the back of the garage. I began work on it on Christmas Eve. I removed the roll-top completely and pulled out the drawers. The veneer had lifted almost everywhere — it was cheap wood.', mimetype='text/plain', start_char_idx=None, end_char_idx=None, text_template='{metadata_str}\\n\\n{content}', metadata_template='{key}: {value}', metadata_seperator='\\n'),\n",
       " TextNode(id_='17251983-29c3-406a-973c-6a1da3c86cbb', embedding=None, metadata={'chapter': 'Chapter1', 'subject': 'English', 'grade': '8th Standard', 'post_title': 'Chapter 1', 'post_description': 'The notes for chapter 1 have been uploaded', 'course_info': '8th Standard English', 'file_path': '/home/jovanzac/Jovan/OfflineProjects/Python/Machine_learning/RAG/Iris/ipynb_files/8_grade_texts/English/hehd101.pdf', 'file_name': 'hehd101.pdf', 'file_type': 'application/pdf', 'file_size': 2528583, 'creation_date': '2024-10-31', 'last_modified_date': '2024-10-31', 'page_number': 2, 'doc_type': 'Text'}, excluded_embed_metadata_keys=['image_path', 'doc_type', 'file_path', 'file_name', 'file_type', 'file_size', 'creation_date', 'last_modified_date', 'page_number', 'file_name', 'file_type', 'file_size', 'creation_date', 'last_modified_date', 'last_accessed_date'], excluded_llm_metadata_keys=['image_path', 'doc_type', 'file_path', 'file_name', 'file_type', 'file_size', 'creation_date', 'last_modified_date', 'page_number', 'file_name', 'file_type', 'file_size', 'creation_date', 'last_modified_date', 'last_accessed_date'], relationships={<NodeRelationship.PREVIOUS: '2'>: RelatedNodeInfo(node_id='fb07daa3-df1c-4c53-9c19-82113a6a9c60', node_type=None, metadata={'chapter': 'Chapter1', 'subject': 'English', 'grade': '8th Standard', 'post_title': 'Chapter 1', 'post_description': 'The notes for chapter 1 have been uploaded', 'course_info': '8th Standard English', 'file_path': '/home/jovanzac/Jovan/OfflineProjects/Python/Machine_learning/RAG/Iris/ipynb_files/8_grade_texts/English/hehd101.pdf', 'file_name': 'hehd101.pdf', 'file_type': 'application/pdf', 'file_size': 2528583, 'creation_date': '2024-10-31', 'last_modified_date': '2024-10-31', 'page_number': 1, 'doc_type': 'Text'}, hash=None), <NodeRelationship.NEXT: '3'>: RelatedNodeInfo(node_id='0fc3bed2-6031-48a0-b762-94191dab740c', node_type=None, metadata={'chapter': 'Chapter1', 'subject': 'English', 'grade': '8th Standard', 'post_title': 'Chapter 1', 'post_description': 'The notes for chapter 1 have been uploaded', 'course_info': '8th Standard English', 'file_path': '/home/jovanzac/Jovan/OfflineProjects/Python/Machine_learning/RAG/Iris/ipynb_files/8_grade_texts/English/hehd101.pdf', 'file_name': 'hehd101.pdf', 'file_type': 'application/pdf', 'file_size': 2528583, 'creation_date': '2024-10-31', 'last_modified_date': '2024-10-31', 'page_number': 3, 'doc_type': 'Text'}, hash=None), <NodeRelationship.CHILD: '5'>: [RelatedNodeInfo(node_id='bea84452-ba66-4992-8627-813e09bc54d5', node_type=None, metadata={'chapter': 'Chapter1', 'subject': 'English', 'grade': '8th Standard', 'post_title': 'Chapter 1', 'post_description': 'The notes for chapter 1 have been uploaded', 'course_info': '8th Standard English', 'file_path': '/home/jovanzac/Jovan/OfflineProjects/Python/Machine_learning/RAG/Iris/ipynb_files/8_grade_texts/English/hehd101.pdf', 'file_name': 'hehd101.pdf', 'file_type': 'application/pdf', 'file_size': 2528583, 'creation_date': '2024-10-31', 'last_modified_date': '2024-10-31', 'page_number': 2, 'doc_type': 'Image', 'image_path': './Static/3175e28c-ac85-4933-b9aa-9789e1284589/figures/figure-2-8.jpg'}, hash=None), RelatedNodeInfo(node_id='1f8abaf9-ab32-4676-bdfd-7c4d7a7d0e46', node_type=None, metadata={'chapter': 'Chapter1', 'subject': 'English', 'grade': '8th Standard', 'post_title': 'Chapter 1', 'post_description': 'The notes for chapter 1 have been uploaded', 'course_info': '8th Standard English', 'file_path': '/home/jovanzac/Jovan/OfflineProjects/Python/Machine_learning/RAG/Iris/ipynb_files/8_grade_texts/English/hehd101.pdf', 'file_name': 'hehd101.pdf', 'file_type': 'application/pdf', 'file_size': 2528583, 'creation_date': '2024-10-31', 'last_modified_date': '2024-10-31', 'page_number': 2, 'doc_type': 'Image', 'image_path': './Static/3175e28c-ac85-4933-b9aa-9789e1284589/figures/figure-2-9.jpg'}, hash=None), RelatedNodeInfo(node_id='8dc3d965-5df3-4ce6-bbc7-3ba9fdc80e3f', node_type=None, metadata={'chapter': 'Chapter1', 'subject': 'English', 'grade': '8th Standard', 'post_title': 'Chapter 1', 'post_description': 'The notes for chapter 1 have been uploaded', 'course_info': '8th Standard English', 'file_path': '/home/jovanzac/Jovan/OfflineProjects/Python/Machine_learning/RAG/Iris/ipynb_files/8_grade_texts/English/hehd101.pdf', 'file_name': 'hehd101.pdf', 'file_type': 'application/pdf', 'file_size': 2528583, 'creation_date': '2024-10-31', 'last_modified_date': '2024-10-31', 'page_number': 2, 'doc_type': 'Image', 'image_path': './Static/3175e28c-ac85-4933-b9aa-9789e1284589/figures/figure-2-12.jpg'}, hash=None), RelatedNodeInfo(node_id='1778719d-069e-4796-8c8b-8fe9644e63b3', node_type=None, metadata={'chapter': 'Chapter1', 'subject': 'English', 'grade': '8th Standard', 'post_title': 'Chapter 1', 'post_description': 'The notes for chapter 1 have been uploaded', 'course_info': '8th Standard English', 'file_path': '/home/jovanzac/Jovan/OfflineProjects/Python/Machine_learning/RAG/Iris/ipynb_files/8_grade_texts/English/hehd101.pdf', 'file_name': 'hehd101.pdf', 'file_type': 'application/pdf', 'file_size': 2528583, 'creation_date': '2024-10-31', 'last_modified_date': '2024-10-31', 'page_number': 2, 'doc_type': 'Image', 'image_path': './Static/3175e28c-ac85-4933-b9aa-9789e1284589/figures/figure-2-13.jpg'}, hash=None), RelatedNodeInfo(node_id='f9f38cf8-427e-4864-b526-ce2c3f8cc135', node_type=None, metadata={'chapter': 'Chapter1', 'subject': 'English', 'grade': '8th Standard', 'post_title': 'Chapter 1', 'post_description': 'The notes for chapter 1 have been uploaded', 'course_info': '8th Standard English', 'file_path': '/home/jovanzac/Jovan/OfflineProjects/Python/Machine_learning/RAG/Iris/ipynb_files/8_grade_texts/English/hehd101.pdf', 'file_name': 'hehd101.pdf', 'file_type': 'application/pdf', 'file_size': 2528583, 'creation_date': '2024-10-31', 'last_modified_date': '2024-10-31', 'page_number': 2, 'doc_type': 'Image', 'image_path': './Static/3175e28c-ac85-4933-b9aa-9789e1284589/figures/figure-2-14.jpg'}, hash=None)]}, text='It looked like water damage to me. Both fire and water had clearly taken their toll on this desk. The last drawer was stuck fast. I tried all I could to ease it out gently. In the end, I used brute force. I struck it sharply with the side of my fist, and the drawer flew open to reveal a shallow space underneath, a secret drawer. There was something in there. I reached in and took out a small black tin box. Sello-taped to the top of it was a piece of lined notepaper, and written on it in shaky handwriting: “Jim’s last letter, received January 25, 1915. To be buried with me when the time comes.” I knew as I did it that it was wrong of me to open the box, but curiosity got the better of my scruples. It usually does. Inside the box, there was an envelope. The address read: “Mrs Jim Macpherson, 12 Copper Beeches, Bridport, Dorset.” I took out the letter and unfolded it. It was written in pencil and dated at the top — “December 26, 1914”.\\n\\nComprehension Check:\\n1. What did the author find in a junk shop?\\n2. What did he find in a secret drawer? Who do you think had put it in there?\\n\\nII\\nDearest Connie,\\n...', mimetype='text/plain', start_char_idx=None, end_char_idx=None, text_template='{metadata_str}\\n\\n{content}', metadata_template='{key}: {value}', metadata_seperator='\\n'),\n",
       " TextNode(id_='0fc3bed2-6031-48a0-b762-94191dab740c', embedding=None, metadata={'chapter': 'Chapter1', 'subject': 'English', 'grade': '8th Standard', 'post_title': 'Chapter 1', 'post_description': 'The notes for chapter 1 have been uploaded', 'course_info': '8th Standard English', 'file_path': '/home/jovanzac/Jovan/OfflineProjects/Python/Machine_learning/RAG/Iris/ipynb_files/8_grade_texts/English/hehd101.pdf', 'file_name': 'hehd101.pdf', 'file_type': 'application/pdf', 'file_size': 2528583, 'creation_date': '2024-10-31', 'last_modified_date': '2024-10-31', 'page_number': 3, 'doc_type': 'Text'}, excluded_embed_metadata_keys=['image_path', 'doc_type', 'file_path', 'file_name', 'file_type', 'file_size', 'creation_date', 'last_modified_date', 'page_number', 'file_name', 'file_type', 'file_size', 'creation_date', 'last_modified_date', 'last_accessed_date'], excluded_llm_metadata_keys=['image_path', 'doc_type', 'file_path', 'file_name', 'file_type', 'file_size', 'creation_date', 'last_modified_date', 'page_number', 'file_name', 'file_type', 'file_size', 'creation_date', 'last_modified_date', 'last_accessed_date'], relationships={<NodeRelationship.PREVIOUS: '2'>: RelatedNodeInfo(node_id='17251983-29c3-406a-973c-6a1da3c86cbb', node_type=None, metadata={'chapter': 'Chapter1', 'subject': 'English', 'grade': '8th Standard', 'post_title': 'Chapter 1', 'post_description': 'The notes for chapter 1 have been uploaded', 'course_info': '8th Standard English', 'file_path': '/home/jovanzac/Jovan/OfflineProjects/Python/Machine_learning/RAG/Iris/ipynb_files/8_grade_texts/English/hehd101.pdf', 'file_name': 'hehd101.pdf', 'file_type': 'application/pdf', 'file_size': 2528583, 'creation_date': '2024-10-31', 'last_modified_date': '2024-10-31', 'page_number': 2, 'doc_type': 'Text'}, hash=None), <NodeRelationship.NEXT: '3'>: RelatedNodeInfo(node_id='1cf80130-5c6c-4f82-bf11-fa322d044a32', node_type=None, metadata={'chapter': 'Chapter1', 'subject': 'English', 'grade': '8th Standard', 'post_title': 'Chapter 1', 'post_description': 'The notes for chapter 1 have been uploaded', 'course_info': '8th Standard English', 'file_path': '/home/jovanzac/Jovan/OfflineProjects/Python/Machine_learning/RAG/Iris/ipynb_files/8_grade_texts/English/hehd101.pdf', 'file_name': 'hehd101.pdf', 'file_type': 'application/pdf', 'file_size': 2528583, 'creation_date': '2024-10-31', 'last_modified_date': '2024-10-31', 'page_number': 4, 'doc_type': 'Text'}, hash=None), <NodeRelationship.CHILD: '5'>: [RelatedNodeInfo(node_id='75b8704f-d9d3-4291-b22d-14e4b4e3322b', node_type=None, metadata={'chapter': 'Chapter1', 'subject': 'English', 'grade': '8th Standard', 'post_title': 'Chapter 1', 'post_description': 'The notes for chapter 1 have been uploaded', 'course_info': '8th Standard English', 'file_path': '/home/jovanzac/Jovan/OfflineProjects/Python/Machine_learning/RAG/Iris/ipynb_files/8_grade_texts/English/hehd101.pdf', 'file_name': 'hehd101.pdf', 'file_type': 'application/pdf', 'file_size': 2528583, 'creation_date': '2024-10-31', 'last_modified_date': '2024-10-31', 'page_number': 3, 'doc_type': 'Image', 'image_path': './Static/3175e28c-ac85-4933-b9aa-9789e1284589/figures/figure-3-18.jpg'}, hash=None), RelatedNodeInfo(node_id='d5f2de61-93d3-4750-9342-90230ae97db0', node_type=None, metadata={'chapter': 'Chapter1', 'subject': 'English', 'grade': '8th Standard', 'post_title': 'Chapter 1', 'post_description': 'The notes for chapter 1 have been uploaded', 'course_info': '8th Standard English', 'file_path': '/home/jovanzac/Jovan/OfflineProjects/Python/Machine_learning/RAG/Iris/ipynb_files/8_grade_texts/English/hehd101.pdf', 'file_name': 'hehd101.pdf', 'file_type': 'application/pdf', 'file_size': 2528583, 'creation_date': '2024-10-31', 'last_modified_date': '2024-10-31', 'page_number': 3, 'doc_type': 'Image', 'image_path': './Static/3175e28c-ac85-4933-b9aa-9789e1284589/figures/figure-3-19.jpg'}, hash=None), RelatedNodeInfo(node_id='500f08e6-77f4-4bc6-bb2d-829e9aa2ce37', node_type=None, metadata={'chapter': 'Chapter1', 'subject': 'English', 'grade': '8th Standard', 'post_title': 'Chapter 1', 'post_description': 'The notes for chapter 1 have been uploaded', 'course_info': '8th Standard English', 'file_path': '/home/jovanzac/Jovan/OfflineProjects/Python/Machine_learning/RAG/Iris/ipynb_files/8_grade_texts/English/hehd101.pdf', 'file_name': 'hehd101.pdf', 'file_type': 'application/pdf', 'file_size': 2528583, 'creation_date': '2024-10-31', 'last_modified_date': '2024-10-31', 'page_number': 3, 'doc_type': 'Image', 'image_path': './Static/3175e28c-ac85-4933-b9aa-9789e1284589/figures/figure-3-20.jpg'}, hash=None)]}, text='Standing to attention, you, at once. We were all standing to attention in our trenches, taking up positions yesterday morning, Christmas morning. It was crisp and quiet all about, as beautiful a morning as I\\'ve ever seen, as cold and frosty as a Christmas morning should be. I should like to be able to tell you that we began it. But the truth, I\\'m ashamed to say, is that Fritz began it. \\n\\nFirst, someone saw a white flag waving from the trenches opposite. Then they were calling out to us from across no man\\'s land, \"Happy Christmas, Tommy! Happy Christmas!\" When we had got over the surprise, some of us shouted back, \"Same to you, Fritz! Same to you!\" I thought that would be that. We all did. But then suddenly one of them was up there in his grey greatcoat and waving a white flag. \"Don\\'t shoot, lads!\" someone shouted. And no one did. \\n\\nThen there was another Fritz up on the parapet, and another. \"Keep your heads down,\" I told the men, \"it\\'s a trick.\" But it wasn\\'t. One of the Germans was waving a bottle above his head. \"It is Christmas Day, Tommy. We have schnapps. We have sausage. We meet you? Yes?\" By this time, there were dozens of them walking towards us across no man\\'s land, and not a rifle between them. Little Private Morris was the first up. \"Come on, boys. What are we waiting for?\" And then there was no stopping them. I was the officer. I should have stopped them there and then, I suppose, but the truth is that it never even occurred to me I should. \\n\\nAll along their line and ours, I could see men walking slowly towards one another, grey coats, khaki coats meeting in the middle. And I was one of them. I was part of this. In the middle of the war, we were making peace. You cannot imagine, dearest Connie, my feelings as I looked into the eyes of the Fritz officer, who approached me, hand outstretched. \"Hans Wolf,\" he said, gripping my hand warmly and holding it. \"I am from Dusseldorf. I play the cello in the orchestra. Happy Christmas.\"', mimetype='text/plain', start_char_idx=None, end_char_idx=None, text_template='{metadata_str}\\n\\n{content}', metadata_template='{key}: {value}', metadata_seperator='\\n'),\n",
       " TextNode(id_='1cf80130-5c6c-4f82-bf11-fa322d044a32', embedding=None, metadata={'chapter': 'Chapter1', 'subject': 'English', 'grade': '8th Standard', 'post_title': 'Chapter 1', 'post_description': 'The notes for chapter 1 have been uploaded', 'course_info': '8th Standard English', 'file_path': '/home/jovanzac/Jovan/OfflineProjects/Python/Machine_learning/RAG/Iris/ipynb_files/8_grade_texts/English/hehd101.pdf', 'file_name': 'hehd101.pdf', 'file_type': 'application/pdf', 'file_size': 2528583, 'creation_date': '2024-10-31', 'last_modified_date': '2024-10-31', 'page_number': 4, 'doc_type': 'Text'}, excluded_embed_metadata_keys=['image_path', 'doc_type', 'file_path', 'file_name', 'file_type', 'file_size', 'creation_date', 'last_modified_date', 'page_number', 'file_name', 'file_type', 'file_size', 'creation_date', 'last_modified_date', 'last_accessed_date'], excluded_llm_metadata_keys=['image_path', 'doc_type', 'file_path', 'file_name', 'file_type', 'file_size', 'creation_date', 'last_modified_date', 'page_number', 'file_name', 'file_type', 'file_size', 'creation_date', 'last_modified_date', 'last_accessed_date'], relationships={<NodeRelationship.PREVIOUS: '2'>: RelatedNodeInfo(node_id='0fc3bed2-6031-48a0-b762-94191dab740c', node_type=None, metadata={'chapter': 'Chapter1', 'subject': 'English', 'grade': '8th Standard', 'post_title': 'Chapter 1', 'post_description': 'The notes for chapter 1 have been uploaded', 'course_info': '8th Standard English', 'file_path': '/home/jovanzac/Jovan/OfflineProjects/Python/Machine_learning/RAG/Iris/ipynb_files/8_grade_texts/English/hehd101.pdf', 'file_name': 'hehd101.pdf', 'file_type': 'application/pdf', 'file_size': 2528583, 'creation_date': '2024-10-31', 'last_modified_date': '2024-10-31', 'page_number': 3, 'doc_type': 'Text'}, hash=None), <NodeRelationship.NEXT: '3'>: RelatedNodeInfo(node_id='c4862203-45be-48c0-868d-e801dc79c617', node_type=None, metadata={'chapter': 'Chapter1', 'subject': 'English', 'grade': '8th Standard', 'post_title': 'Chapter 1', 'post_description': 'The notes for chapter 1 have been uploaded', 'course_info': '8th Standard English', 'file_path': '/home/jovanzac/Jovan/OfflineProjects/Python/Machine_learning/RAG/Iris/ipynb_files/8_grade_texts/English/hehd101.pdf', 'file_name': 'hehd101.pdf', 'file_type': 'application/pdf', 'file_size': 2528583, 'creation_date': '2024-10-31', 'last_modified_date': '2024-10-31', 'page_number': 5, 'doc_type': 'Text'}, hash=None), <NodeRelationship.CHILD: '5'>: [RelatedNodeInfo(node_id='1a108cce-27e0-4992-86f7-9e840db48099', node_type=None, metadata={'chapter': 'Chapter1', 'subject': 'English', 'grade': '8th Standard', 'post_title': 'Chapter 1', 'post_description': 'The notes for chapter 1 have been uploaded', 'course_info': '8th Standard English', 'file_path': '/home/jovanzac/Jovan/OfflineProjects/Python/Machine_learning/RAG/Iris/ipynb_files/8_grade_texts/English/hehd101.pdf', 'file_name': 'hehd101.pdf', 'file_type': 'application/pdf', 'file_size': 2528583, 'creation_date': '2024-10-31', 'last_modified_date': '2024-10-31', 'page_number': 4, 'doc_type': 'Image', 'image_path': './Static/3175e28c-ac85-4933-b9aa-9789e1284589/figures/figure-4-22.jpg'}, hash=None), RelatedNodeInfo(node_id='d6a044d8-502c-4cc1-8609-41ebb727e6e4', node_type=None, metadata={'chapter': 'Chapter1', 'subject': 'English', 'grade': '8th Standard', 'post_title': 'Chapter 1', 'post_description': 'The notes for chapter 1 have been uploaded', 'course_info': '8th Standard English', 'file_path': '/home/jovanzac/Jovan/OfflineProjects/Python/Machine_learning/RAG/Iris/ipynb_files/8_grade_texts/English/hehd101.pdf', 'file_name': 'hehd101.pdf', 'file_type': 'application/pdf', 'file_size': 2528583, 'creation_date': '2024-10-31', 'last_modified_date': '2024-10-31', 'page_number': 4, 'doc_type': 'Image', 'image_path': './Static/3175e28c-ac85-4933-b9aa-9789e1284589/figures/figure-4-23.jpg'}, hash=None), RelatedNodeInfo(node_id='94a13c35-1c13-4fc4-ae0f-a497027e4b7d', node_type=None, metadata={'chapter': 'Chapter1', 'subject': 'English', 'grade': '8th Standard', 'post_title': 'Chapter 1', 'post_description': 'The notes for chapter 1 have been uploaded', 'course_info': '8th Standard English', 'file_path': '/home/jovanzac/Jovan/OfflineProjects/Python/Machine_learning/RAG/Iris/ipynb_files/8_grade_texts/English/hehd101.pdf', 'file_name': 'hehd101.pdf', 'file_type': 'application/pdf', 'file_size': 2528583, 'creation_date': '2024-10-31', 'last_modified_date': '2024-10-31', 'page_number': 4, 'doc_type': 'Image', 'image_path': './Static/3175e28c-ac85-4933-b9aa-9789e1284589/figures/figure-4-25.jpg'}, hash=None), RelatedNodeInfo(node_id='0b9740b8-1f3e-4680-987a-19e597bd5f42', node_type=None, metadata={'chapter': 'Chapter1', 'subject': 'English', 'grade': '8th Standard', 'post_title': 'Chapter 1', 'post_description': 'The notes for chapter 1 have been uploaded', 'course_info': '8th Standard English', 'file_path': '/home/jovanzac/Jovan/OfflineProjects/Python/Machine_learning/RAG/Iris/ipynb_files/8_grade_texts/English/hehd101.pdf', 'file_name': 'hehd101.pdf', 'file_type': 'application/pdf', 'file_size': 2528583, 'creation_date': '2024-10-31', 'last_modified_date': '2024-10-31', 'page_number': 4, 'doc_type': 'Image', 'image_path': './Static/3175e28c-ac85-4933-b9aa-9789e1284589/figures/figure-4-26.jpg'}, hash=None), RelatedNodeInfo(node_id='b99e60f9-6d2b-4817-b434-56cf31e6d556', node_type=None, metadata={'chapter': 'Chapter1', 'subject': 'English', 'grade': '8th Standard', 'post_title': 'Chapter 1', 'post_description': 'The notes for chapter 1 have been uploaded', 'course_info': '8th Standard English', 'file_path': '/home/jovanzac/Jovan/OfflineProjects/Python/Machine_learning/RAG/Iris/ipynb_files/8_grade_texts/English/hehd101.pdf', 'file_name': 'hehd101.pdf', 'file_type': 'application/pdf', 'file_size': 2528583, 'creation_date': '2024-10-31', 'last_modified_date': '2024-10-31', 'page_number': 4, 'doc_type': 'Image', 'image_path': './Static/3175e28c-ac85-4933-b9aa-9789e1284589/figures/figure-4-27.jpg'}, hash=None)]}, text='“Captain Jim Macpherson,” I replied. “And a Happy Christmas to you too. I’m a school teacher from Dorset, in the west of England.” “Ah, Dorset,” he smiled. “I know this place. I know it very well.” We shared my rum ration and his excellent sausage. And we talked, Connie, how we talked. He spoke almost perfect English. But it turned out that he had never set foot in Dorset, never even been to England. He had learned all he knew of England from school, and from reading books in English. His favourite writer was Thomas Hardy, his favourite book Far from the Madding Crowd. So out there in no man’s land we talked of Bathsheba and Gabriel Oak and Sergeant Troy and Dorset. He had a wife and one son, born just six months ago. As I looked about me, there were huddles of khaki and grey everywhere, all over no man’s land, smoking, laughing, talking, drinking, eating. Hans Wolf and I shared what was left of your wonderful Christmas cake, Connie. He thought the marzipan was the best he had ever tasted. I agreed. We agreed about everything, and yet he was my enemy. There never was a Christmas party cake made like it, Connie. Then someone, I don’t know who, brought out a football. Greatcoats were dumped in piles to make goalposts, and the next thing we knew it was Tommy against Fritz out in the middle of no man’s land. Hans Wolf and I looked on and cheered, clapping our hands and stamping our feet, to keep out the cold as much as anything. There was a moment when I noticed our breaths mingling in the air between us. He saw it too and smiled. “Jim Macpherson,” he said after a while, “I think this is how we should resolve this war. A football match. No one dies in a football match. No children are orphaned. No wives become widows.” “I’d prefer cricket,” I told him. “Then we Tommies could be sure of winning, probably.” We laughed at that, and together we watched the game. Sad to say, it was a moment of peace in the midst of chaos.', mimetype='text/plain', start_char_idx=None, end_char_idx=None, text_template='{metadata_str}\\n\\n{content}', metadata_template='{key}: {value}', metadata_seperator='\\n'),\n",
       " TextNode(id_='c4862203-45be-48c0-868d-e801dc79c617', embedding=None, metadata={'chapter': 'Chapter1', 'subject': 'English', 'grade': '8th Standard', 'post_title': 'Chapter 1', 'post_description': 'The notes for chapter 1 have been uploaded', 'course_info': '8th Standard English', 'file_path': '/home/jovanzac/Jovan/OfflineProjects/Python/Machine_learning/RAG/Iris/ipynb_files/8_grade_texts/English/hehd101.pdf', 'file_name': 'hehd101.pdf', 'file_type': 'application/pdf', 'file_size': 2528583, 'creation_date': '2024-10-31', 'last_modified_date': '2024-10-31', 'page_number': 5, 'doc_type': 'Text'}, excluded_embed_metadata_keys=['image_path', 'doc_type', 'file_path', 'file_name', 'file_type', 'file_size', 'creation_date', 'last_modified_date', 'page_number', 'file_name', 'file_type', 'file_size', 'creation_date', 'last_modified_date', 'last_accessed_date'], excluded_llm_metadata_keys=['image_path', 'doc_type', 'file_path', 'file_name', 'file_type', 'file_size', 'creation_date', 'last_modified_date', 'page_number', 'file_name', 'file_type', 'file_size', 'creation_date', 'last_modified_date', 'last_accessed_date'], relationships={<NodeRelationship.PREVIOUS: '2'>: RelatedNodeInfo(node_id='1cf80130-5c6c-4f82-bf11-fa322d044a32', node_type=None, metadata={'chapter': 'Chapter1', 'subject': 'English', 'grade': '8th Standard', 'post_title': 'Chapter 1', 'post_description': 'The notes for chapter 1 have been uploaded', 'course_info': '8th Standard English', 'file_path': '/home/jovanzac/Jovan/OfflineProjects/Python/Machine_learning/RAG/Iris/ipynb_files/8_grade_texts/English/hehd101.pdf', 'file_name': 'hehd101.pdf', 'file_type': 'application/pdf', 'file_size': 2528583, 'creation_date': '2024-10-31', 'last_modified_date': '2024-10-31', 'page_number': 4, 'doc_type': 'Text'}, hash=None), <NodeRelationship.NEXT: '3'>: RelatedNodeInfo(node_id='c27dc319-8ebf-4e4f-b7c8-abe019b93100', node_type=None, metadata={'chapter': 'Chapter1', 'subject': 'English', 'grade': '8th Standard', 'post_title': 'Chapter 1', 'post_description': 'The notes for chapter 1 have been uploaded', 'course_info': '8th Standard English', 'file_path': '/home/jovanzac/Jovan/OfflineProjects/Python/Machine_learning/RAG/Iris/ipynb_files/8_grade_texts/English/hehd101.pdf', 'file_name': 'hehd101.pdf', 'file_type': 'application/pdf', 'file_size': 2528583, 'creation_date': '2024-10-31', 'last_modified_date': '2024-10-31', 'page_number': 6, 'doc_type': 'Text'}, hash=None), <NodeRelationship.CHILD: '5'>: [RelatedNodeInfo(node_id='cf45fb08-cea5-4177-bd87-25491b474d96', node_type=None, metadata={'chapter': 'Chapter1', 'subject': 'English', 'grade': '8th Standard', 'post_title': 'Chapter 1', 'post_description': 'The notes for chapter 1 have been uploaded', 'course_info': '8th Standard English', 'file_path': '/home/jovanzac/Jovan/OfflineProjects/Python/Machine_learning/RAG/Iris/ipynb_files/8_grade_texts/English/hehd101.pdf', 'file_name': 'hehd101.pdf', 'file_type': 'application/pdf', 'file_size': 2528583, 'creation_date': '2024-10-31', 'last_modified_date': '2024-10-31', 'page_number': 5, 'doc_type': 'Image', 'image_path': './Static/3175e28c-ac85-4933-b9aa-9789e1284589/figures/figure-5-29.jpg'}, hash=None), RelatedNodeInfo(node_id='a7007a64-6da9-48f6-ac24-8b347e1711a4', node_type=None, metadata={'chapter': 'Chapter1', 'subject': 'English', 'grade': '8th Standard', 'post_title': 'Chapter 1', 'post_description': 'The notes for chapter 1 have been uploaded', 'course_info': '8th Standard English', 'file_path': '/home/jovanzac/Jovan/OfflineProjects/Python/Machine_learning/RAG/Iris/ipynb_files/8_grade_texts/English/hehd101.pdf', 'file_name': 'hehd101.pdf', 'file_type': 'application/pdf', 'file_size': 2528583, 'creation_date': '2024-10-31', 'last_modified_date': '2024-10-31', 'page_number': 5, 'doc_type': 'Image', 'image_path': './Static/3175e28c-ac85-4933-b9aa-9789e1284589/figures/figure-5-30.jpg'}, hash=None), RelatedNodeInfo(node_id='a7431147-ebf9-43a7-821d-4dc88f49e1a8', node_type=None, metadata={'chapter': 'Chapter1', 'subject': 'English', 'grade': '8th Standard', 'post_title': 'Chapter 1', 'post_description': 'The notes for chapter 1 have been uploaded', 'course_info': '8th Standard English', 'file_path': '/home/jovanzac/Jovan/OfflineProjects/Python/Machine_learning/RAG/Iris/ipynb_files/8_grade_texts/English/hehd101.pdf', 'file_name': 'hehd101.pdf', 'file_type': 'application/pdf', 'file_size': 2528583, 'creation_date': '2024-10-31', 'last_modified_date': '2024-10-31', 'page_number': 5, 'doc_type': 'Image', 'image_path': './Static/3175e28c-ac85-4933-b9aa-9789e1284589/figures/figure-5-31.jpg'}, hash=None), RelatedNodeInfo(node_id='03f4a75f-5ded-49ad-86ac-43aa13d5f1f4', node_type=None, metadata={'chapter': 'Chapter1', 'subject': 'English', 'grade': '8th Standard', 'post_title': 'Chapter 1', 'post_description': 'The notes for chapter 1 have been uploaded', 'course_info': '8th Standard English', 'file_path': '/home/jovanzac/Jovan/OfflineProjects/Python/Machine_learning/RAG/Iris/ipynb_files/8_grade_texts/English/hehd101.pdf', 'file_name': 'hehd101.pdf', 'file_type': 'application/pdf', 'file_size': 2528583, 'creation_date': '2024-10-31', 'last_modified_date': '2024-10-31', 'page_number': 5, 'doc_type': 'Image', 'image_path': './Static/3175e28c-ac85-4933-b9aa-9789e1284589/figures/figure-5-33.jpg'}, hash=None), RelatedNodeInfo(node_id='d2869d86-6e83-4332-a395-93070d8bb5d7', node_type=None, metadata={'chapter': 'Chapter1', 'subject': 'English', 'grade': '8th Standard', 'post_title': 'Chapter 1', 'post_description': 'The notes for chapter 1 have been uploaded', 'course_info': '8th Standard English', 'file_path': '/home/jovanzac/Jovan/OfflineProjects/Python/Machine_learning/RAG/Iris/ipynb_files/8_grade_texts/English/hehd101.pdf', 'file_name': 'hehd101.pdf', 'file_type': 'application/pdf', 'file_size': 2528583, 'creation_date': '2024-10-31', 'last_modified_date': '2024-10-31', 'page_number': 5, 'doc_type': 'Image', 'image_path': './Static/3175e28c-ac85-4933-b9aa-9789e1284589/figures/figure-5-34.jpg'}, hash=None)]}, text='Connie, Fritz won two goals to one. But as Hans Wolf generously said, our goal was wider than theirs, so it wasn\\'t quite fair. The time came, and all too soon, when the game was finished, the schnapps and the rum and the sausage had long since run out, and we knew it was all over. I wished Hans well and told him I hoped he would see his family again soon, that the fighting would end and we could all go home. \"I think that is what every soldier wants, on both sides,\" Hans Wolf said. \"Take care, Jim Macpherson. I shall never forget this moment, nor you.\" He saluted and walked away from me slowly, unwillingly, I felt. He turned to wave just once and then became one of the hundreds of grey-coated men drifting back towards their trenches. That night, back in our dugouts, we heard them singing a carol, and singing it quite beautifully. It was Stille Nacht, Silent Night. Our boys gave them a rousing chorus of While Shepherds Watched. We exchanged carols for a while and then we all fell silent. We had had our time of peace and goodwill, a time I will treasure as long as I live.', mimetype='text/plain', start_char_idx=None, end_char_idx=None, text_template='{metadata_str}\\n\\n{content}', metadata_template='{key}: {value}', metadata_seperator='\\n'),\n",
       " TextNode(id_='c27dc319-8ebf-4e4f-b7c8-abe019b93100', embedding=None, metadata={'chapter': 'Chapter1', 'subject': 'English', 'grade': '8th Standard', 'post_title': 'Chapter 1', 'post_description': 'The notes for chapter 1 have been uploaded', 'course_info': '8th Standard English', 'file_path': '/home/jovanzac/Jovan/OfflineProjects/Python/Machine_learning/RAG/Iris/ipynb_files/8_grade_texts/English/hehd101.pdf', 'file_name': 'hehd101.pdf', 'file_type': 'application/pdf', 'file_size': 2528583, 'creation_date': '2024-10-31', 'last_modified_date': '2024-10-31', 'page_number': 6, 'doc_type': 'Text'}, excluded_embed_metadata_keys=['image_path', 'doc_type', 'file_path', 'file_name', 'file_type', 'file_size', 'creation_date', 'last_modified_date', 'page_number', 'file_name', 'file_type', 'file_size', 'creation_date', 'last_modified_date', 'last_accessed_date'], excluded_llm_metadata_keys=['image_path', 'doc_type', 'file_path', 'file_name', 'file_type', 'file_size', 'creation_date', 'last_modified_date', 'page_number', 'file_name', 'file_type', 'file_size', 'creation_date', 'last_modified_date', 'last_accessed_date'], relationships={<NodeRelationship.PREVIOUS: '2'>: RelatedNodeInfo(node_id='c4862203-45be-48c0-868d-e801dc79c617', node_type=None, metadata={'chapter': 'Chapter1', 'subject': 'English', 'grade': '8th Standard', 'post_title': 'Chapter 1', 'post_description': 'The notes for chapter 1 have been uploaded', 'course_info': '8th Standard English', 'file_path': '/home/jovanzac/Jovan/OfflineProjects/Python/Machine_learning/RAG/Iris/ipynb_files/8_grade_texts/English/hehd101.pdf', 'file_name': 'hehd101.pdf', 'file_type': 'application/pdf', 'file_size': 2528583, 'creation_date': '2024-10-31', 'last_modified_date': '2024-10-31', 'page_number': 5, 'doc_type': 'Text'}, hash=None), <NodeRelationship.NEXT: '3'>: RelatedNodeInfo(node_id='add256ef-73ca-488b-bc01-a8364fc790e2', node_type=None, metadata={'chapter': 'Chapter1', 'subject': 'English', 'grade': '8th Standard', 'post_title': 'Chapter 1', 'post_description': 'The notes for chapter 1 have been uploaded', 'course_info': '8th Standard English', 'file_path': '/home/jovanzac/Jovan/OfflineProjects/Python/Machine_learning/RAG/Iris/ipynb_files/8_grade_texts/English/hehd101.pdf', 'file_name': 'hehd101.pdf', 'file_type': 'application/pdf', 'file_size': 2528583, 'creation_date': '2024-10-31', 'last_modified_date': '2024-10-31', 'page_number': 7, 'doc_type': 'Text'}, hash=None), <NodeRelationship.CHILD: '5'>: [RelatedNodeInfo(node_id='1425d1f1-5963-4544-9e04-dd043d29f97a', node_type=None, metadata={'chapter': 'Chapter1', 'subject': 'English', 'grade': '8th Standard', 'post_title': 'Chapter 1', 'post_description': 'The notes for chapter 1 have been uploaded', 'course_info': '8th Standard English', 'file_path': '/home/jovanzac/Jovan/OfflineProjects/Python/Machine_learning/RAG/Iris/ipynb_files/8_grade_texts/English/hehd101.pdf', 'file_name': 'hehd101.pdf', 'file_type': 'application/pdf', 'file_size': 2528583, 'creation_date': '2024-10-31', 'last_modified_date': '2024-10-31', 'page_number': 6, 'doc_type': 'Image', 'image_path': './Static/3175e28c-ac85-4933-b9aa-9789e1284589/figures/figure-6-36.jpg'}, hash=None), RelatedNodeInfo(node_id='70d1bfb6-3155-4d62-8b5c-82f170056268', node_type=None, metadata={'chapter': 'Chapter1', 'subject': 'English', 'grade': '8th Standard', 'post_title': 'Chapter 1', 'post_description': 'The notes for chapter 1 have been uploaded', 'course_info': '8th Standard English', 'file_path': '/home/jovanzac/Jovan/OfflineProjects/Python/Machine_learning/RAG/Iris/ipynb_files/8_grade_texts/English/hehd101.pdf', 'file_name': 'hehd101.pdf', 'file_type': 'application/pdf', 'file_size': 2528583, 'creation_date': '2024-10-31', 'last_modified_date': '2024-10-31', 'page_number': 6, 'doc_type': 'Image', 'image_path': './Static/3175e28c-ac85-4933-b9aa-9789e1284589/figures/figure-6-37.jpg'}, hash=None), RelatedNodeInfo(node_id='f1fb3df2-52dc-4ef9-bf8a-3db2d3c5fe4d', node_type=None, metadata={'chapter': 'Chapter1', 'subject': 'English', 'grade': '8th Standard', 'post_title': 'Chapter 1', 'post_description': 'The notes for chapter 1 have been uploaded', 'course_info': '8th Standard English', 'file_path': '/home/jovanzac/Jovan/OfflineProjects/Python/Machine_learning/RAG/Iris/ipynb_files/8_grade_texts/English/hehd101.pdf', 'file_name': 'hehd101.pdf', 'file_type': 'application/pdf', 'file_size': 2528583, 'creation_date': '2024-10-31', 'last_modified_date': '2024-10-31', 'page_number': 6, 'doc_type': 'Image', 'image_path': './Static/3175e28c-ac85-4933-b9aa-9789e1284589/figures/figure-6-39.jpg'}, hash=None), RelatedNodeInfo(node_id='be9606b9-fac3-4f22-bd74-b6d02d0b6e68', node_type=None, metadata={'chapter': 'Chapter1', 'subject': 'English', 'grade': '8th Standard', 'post_title': 'Chapter 1', 'post_description': 'The notes for chapter 1 have been uploaded', 'course_info': '8th Standard English', 'file_path': '/home/jovanzac/Jovan/OfflineProjects/Python/Machine_learning/RAG/Iris/ipynb_files/8_grade_texts/English/hehd101.pdf', 'file_name': 'hehd101.pdf', 'file_type': 'application/pdf', 'file_size': 2528583, 'creation_date': '2024-10-31', 'last_modified_date': '2024-10-31', 'page_number': 6, 'doc_type': 'Image', 'image_path': './Static/3175e28c-ac85-4933-b9aa-9789e1284589/figures/figure-6-40.jpg'}, hash=None), RelatedNodeInfo(node_id='8a667776-eb18-4f66-857f-1855f5aff522', node_type=None, metadata={'chapter': 'Chapter1', 'subject': 'English', 'grade': '8th Standard', 'post_title': 'Chapter 1', 'post_description': 'The notes for chapter 1 have been uploaded', 'course_info': '8th Standard English', 'file_path': '/home/jovanzac/Jovan/OfflineProjects/Python/Machine_learning/RAG/Iris/ipynb_files/8_grade_texts/English/hehd101.pdf', 'file_name': 'hehd101.pdf', 'file_type': 'application/pdf', 'file_size': 2528583, 'creation_date': '2024-10-31', 'last_modified_date': '2024-10-31', 'page_number': 6, 'doc_type': 'Image', 'image_path': './Static/3175e28c-ac85-4933-b9aa-9789e1284589/figures/figure-6-41.jpg'}, hash=None)]}, text='Dearest Connie, by Christmas time next year, this war will be nothing but a distant and terrible memory. I know from all that happened today how much both armies long for peace. We shall be together again soon, I\\'m sure of it. Your loving, Jim.\\n\\nComprehension Check:\\n1. Who had written the letter, to whom, and when?\\n2. Why was the letter written — what was the wonderful thing that had happened?\\n3. What jobs did Hans Wolf and Jim Macpherson have when they were not soldiers?\\n4. Had Hans Wolf ever been to Dorset? Why did he say he knew it?\\n5. Do you think Jim Macpherson came back from the war? How do you know this?\\n\\nI folded the letter again and slipped it carefully back into its envelope. I kept awake all night. By morning I knew what I had to do. I drove into Bridport, just a few miles away. I asked a boy walking his dog where Copper Beeches was. House number 12 turned out to be a burned-out shell, the roof gaping, the windows destroyed and boarded-up. I knocked at the house next door and asked if anyone knew the whereabouts of a Mrs Macpherson.\\n\\n\"Oh, yes,\" said the old man in his slippers, \"he knew her well. A lovely old lady, a bit muddle-headed, but at her age she was entitled to be, wasn\\'t she?\" A hundred and one years old. She had been in the house when it caught fire. No one really knew how the fire had started, but it could well have been candles. She used candles rather than electricity, because she always thought electricity was too expensive. The fireman had got her out just in time. She was in a nursing home now, Burlington House, on the Dorchester road, on the other side of town.', mimetype='text/plain', start_char_idx=None, end_char_idx=None, text_template='{metadata_str}\\n\\n{content}', metadata_template='{key}: {value}', metadata_seperator='\\n'),\n",
       " TextNode(id_='add256ef-73ca-488b-bc01-a8364fc790e2', embedding=None, metadata={'chapter': 'Chapter1', 'subject': 'English', 'grade': '8th Standard', 'post_title': 'Chapter 1', 'post_description': 'The notes for chapter 1 have been uploaded', 'course_info': '8th Standard English', 'file_path': '/home/jovanzac/Jovan/OfflineProjects/Python/Machine_learning/RAG/Iris/ipynb_files/8_grade_texts/English/hehd101.pdf', 'file_name': 'hehd101.pdf', 'file_type': 'application/pdf', 'file_size': 2528583, 'creation_date': '2024-10-31', 'last_modified_date': '2024-10-31', 'page_number': 7, 'doc_type': 'Text'}, excluded_embed_metadata_keys=['image_path', 'doc_type', 'file_path', 'file_name', 'file_type', 'file_size', 'creation_date', 'last_modified_date', 'page_number', 'file_name', 'file_type', 'file_size', 'creation_date', 'last_modified_date', 'last_accessed_date'], excluded_llm_metadata_keys=['image_path', 'doc_type', 'file_path', 'file_name', 'file_type', 'file_size', 'creation_date', 'last_modified_date', 'page_number', 'file_name', 'file_type', 'file_size', 'creation_date', 'last_modified_date', 'last_accessed_date'], relationships={<NodeRelationship.PREVIOUS: '2'>: RelatedNodeInfo(node_id='c27dc319-8ebf-4e4f-b7c8-abe019b93100', node_type=None, metadata={'chapter': 'Chapter1', 'subject': 'English', 'grade': '8th Standard', 'post_title': 'Chapter 1', 'post_description': 'The notes for chapter 1 have been uploaded', 'course_info': '8th Standard English', 'file_path': '/home/jovanzac/Jovan/OfflineProjects/Python/Machine_learning/RAG/Iris/ipynb_files/8_grade_texts/English/hehd101.pdf', 'file_name': 'hehd101.pdf', 'file_type': 'application/pdf', 'file_size': 2528583, 'creation_date': '2024-10-31', 'last_modified_date': '2024-10-31', 'page_number': 6, 'doc_type': 'Text'}, hash=None), <NodeRelationship.NEXT: '3'>: RelatedNodeInfo(node_id='edf2d0ad-9e06-4764-b262-210acd298cff', node_type=None, metadata={'chapter': 'Chapter1', 'subject': 'English', 'grade': '8th Standard', 'post_title': 'Chapter 1', 'post_description': 'The notes for chapter 1 have been uploaded', 'course_info': '8th Standard English', 'file_path': '/home/jovanzac/Jovan/OfflineProjects/Python/Machine_learning/RAG/Iris/ipynb_files/8_grade_texts/English/hehd101.pdf', 'file_name': 'hehd101.pdf', 'file_type': 'application/pdf', 'file_size': 2528583, 'creation_date': '2024-10-31', 'last_modified_date': '2024-10-31', 'page_number': 8, 'doc_type': 'Text'}, hash=None), <NodeRelationship.CHILD: '5'>: [RelatedNodeInfo(node_id='e9342d76-d51d-4a63-ac37-87fc1e25a95b', node_type=None, metadata={'chapter': 'Chapter1', 'subject': 'English', 'grade': '8th Standard', 'post_title': 'Chapter 1', 'post_description': 'The notes for chapter 1 have been uploaded', 'course_info': '8th Standard English', 'file_path': '/home/jovanzac/Jovan/OfflineProjects/Python/Machine_learning/RAG/Iris/ipynb_files/8_grade_texts/English/hehd101.pdf', 'file_name': 'hehd101.pdf', 'file_type': 'application/pdf', 'file_size': 2528583, 'creation_date': '2024-10-31', 'last_modified_date': '2024-10-31', 'page_number': 7, 'doc_type': 'Image', 'image_path': './Static/3175e28c-ac85-4933-b9aa-9789e1284589/figures/figure-7-43.jpg'}, hash=None), RelatedNodeInfo(node_id='5bc29383-7d95-4270-9f2c-d5202b6202d8', node_type=None, metadata={'chapter': 'Chapter1', 'subject': 'English', 'grade': '8th Standard', 'post_title': 'Chapter 1', 'post_description': 'The notes for chapter 1 have been uploaded', 'course_info': '8th Standard English', 'file_path': '/home/jovanzac/Jovan/OfflineProjects/Python/Machine_learning/RAG/Iris/ipynb_files/8_grade_texts/English/hehd101.pdf', 'file_name': 'hehd101.pdf', 'file_type': 'application/pdf', 'file_size': 2528583, 'creation_date': '2024-10-31', 'last_modified_date': '2024-10-31', 'page_number': 7, 'doc_type': 'Image', 'image_path': './Static/3175e28c-ac85-4933-b9aa-9789e1284589/figures/figure-7-44.jpg'}, hash=None), RelatedNodeInfo(node_id='d2677e5a-52ce-42d1-9966-87c0a8e05a2b', node_type=None, metadata={'chapter': 'Chapter1', 'subject': 'English', 'grade': '8th Standard', 'post_title': 'Chapter 1', 'post_description': 'The notes for chapter 1 have been uploaded', 'course_info': '8th Standard English', 'file_path': '/home/jovanzac/Jovan/OfflineProjects/Python/Machine_learning/RAG/Iris/ipynb_files/8_grade_texts/English/hehd101.pdf', 'file_name': 'hehd101.pdf', 'file_type': 'application/pdf', 'file_size': 2528583, 'creation_date': '2024-10-31', 'last_modified_date': '2024-10-31', 'page_number': 7, 'doc_type': 'Image', 'image_path': './Static/3175e28c-ac85-4933-b9aa-9789e1284589/figures/figure-7-46.jpg'}, hash=None)]}, text='Comprehension Check: 1. Why did the author go to Bridport? 2. How old was Mrs. Macpherson now? Where was she?\\n\\nI found Burlington House Nursing Home easily enough. There were paper chains up in the hallway, and a lighted Christmas tree stood in the corner with a lopsided angel on top. I said I was a friend come to visit Mrs. Macpherson to bring her a Christmas present. I could see through into the dining room where everyone was wearing a paper hat and singing. The matron had a hat on too and seemed happy enough to see me. She even offered me a lit-up mince pie. She walked me along the corridor, becoming bright with happiness and excitement. \"Mrs. Macpherson is not in with the others,\" she told me. \"She\\'s rather confused today, so we thought it best if she had a good rest. She has no family, you know, no one visits. So I\\'m sure she\\'ll be only too pleased to see you.\" She took me into a conservatory with wicker chairs and potted plants all around and left me.\\n\\nThe old lady was sitting in a wheelchair, her hands folded in her lap. She had silver-white hair pinned into a wispy bun. She was gazing out at the garden. \"Hello,\" I said. She turned and looked up at me vacantly. \"Happy Christmas, Connie,\" I went on. \"I found this. I think it\\'s yours.\" As I was speaking, her eyes never left my face. I opened the tin box and gave it to her. That was the moment her eyes lit up with recognition, and her face became suffused with a sudden glow of happiness. I explained about the desk, about how I had found it, but I don\\'t think she was listening. For a while...', mimetype='text/plain', start_char_idx=None, end_char_idx=None, text_template='{metadata_str}\\n\\n{content}', metadata_template='{key}: {value}', metadata_seperator='\\n'),\n",
       " TextNode(id_='edf2d0ad-9e06-4764-b262-210acd298cff', embedding=None, metadata={'chapter': 'Chapter1', 'subject': 'English', 'grade': '8th Standard', 'post_title': 'Chapter 1', 'post_description': 'The notes for chapter 1 have been uploaded', 'course_info': '8th Standard English', 'file_path': '/home/jovanzac/Jovan/OfflineProjects/Python/Machine_learning/RAG/Iris/ipynb_files/8_grade_texts/English/hehd101.pdf', 'file_name': 'hehd101.pdf', 'file_type': 'application/pdf', 'file_size': 2528583, 'creation_date': '2024-10-31', 'last_modified_date': '2024-10-31', 'page_number': 8, 'doc_type': 'Text'}, excluded_embed_metadata_keys=['image_path', 'doc_type', 'file_path', 'file_name', 'file_type', 'file_size', 'creation_date', 'last_modified_date', 'page_number', 'file_name', 'file_type', 'file_size', 'creation_date', 'last_modified_date', 'last_accessed_date'], excluded_llm_metadata_keys=['image_path', 'doc_type', 'file_path', 'file_name', 'file_type', 'file_size', 'creation_date', 'last_modified_date', 'page_number', 'file_name', 'file_type', 'file_size', 'creation_date', 'last_modified_date', 'last_accessed_date'], relationships={<NodeRelationship.PREVIOUS: '2'>: RelatedNodeInfo(node_id='add256ef-73ca-488b-bc01-a8364fc790e2', node_type=None, metadata={'chapter': 'Chapter1', 'subject': 'English', 'grade': '8th Standard', 'post_title': 'Chapter 1', 'post_description': 'The notes for chapter 1 have been uploaded', 'course_info': '8th Standard English', 'file_path': '/home/jovanzac/Jovan/OfflineProjects/Python/Machine_learning/RAG/Iris/ipynb_files/8_grade_texts/English/hehd101.pdf', 'file_name': 'hehd101.pdf', 'file_type': 'application/pdf', 'file_size': 2528583, 'creation_date': '2024-10-31', 'last_modified_date': '2024-10-31', 'page_number': 7, 'doc_type': 'Text'}, hash=None), <NodeRelationship.NEXT: '3'>: RelatedNodeInfo(node_id='b0a4cafb-78e0-45b7-ad2c-0d3317615b5c', node_type=None, metadata={'chapter': 'Chapter2', 'subject': 'English', 'grade': '8th Standard', 'post_title': 'Chapter 2', 'post_description': 'The notes for chapter 2 has been uploaded', 'course_info': '8th Standard English', 'file_path': '/home/jovanzac/Jovan/OfflineProjects/Python/Machine_learning/RAG/Iris/ipynb_files/8_grade_texts/English/hehd102.pdf', 'file_name': 'hehd102.pdf', 'file_type': 'application/pdf', 'file_size': 1006731, 'creation_date': '2024-10-31', 'last_modified_date': '2024-10-31', 'page_number': 1, 'doc_type': 'Text'}, hash=None), <NodeRelationship.CHILD: '5'>: [RelatedNodeInfo(node_id='7038c0a6-9a91-474b-9b4d-45ef477ed55d', node_type=None, metadata={'chapter': 'Chapter1', 'subject': 'English', 'grade': '8th Standard', 'post_title': 'Chapter 1', 'post_description': 'The notes for chapter 1 have been uploaded', 'course_info': '8th Standard English', 'file_path': '/home/jovanzac/Jovan/OfflineProjects/Python/Machine_learning/RAG/Iris/ipynb_files/8_grade_texts/English/hehd101.pdf', 'file_name': 'hehd101.pdf', 'file_type': 'application/pdf', 'file_size': 2528583, 'creation_date': '2024-10-31', 'last_modified_date': '2024-10-31', 'page_number': 8, 'doc_type': 'Image', 'image_path': './Static/3175e28c-ac85-4933-b9aa-9789e1284589/figures/figure-8-49.jpg'}, hash=None), RelatedNodeInfo(node_id='a4a77fa8-34bc-478c-b2f3-de26b1b6681a', node_type=None, metadata={'chapter': 'Chapter1', 'subject': 'English', 'grade': '8th Standard', 'post_title': 'Chapter 1', 'post_description': 'The notes for chapter 1 have been uploaded', 'course_info': '8th Standard English', 'file_path': '/home/jovanzac/Jovan/OfflineProjects/Python/Machine_learning/RAG/Iris/ipynb_files/8_grade_texts/English/hehd101.pdf', 'file_name': 'hehd101.pdf', 'file_type': 'application/pdf', 'file_size': 2528583, 'creation_date': '2024-10-31', 'last_modified_date': '2024-10-31', 'page_number': 8, 'doc_type': 'Image', 'image_path': './Static/3175e28c-ac85-4933-b9aa-9789e1284589/figures/figure-8-50.jpg'}, hash=None), RelatedNodeInfo(node_id='51a4afbd-5d81-44bc-b8d8-16d536d067ab', node_type=None, metadata={'chapter': 'Chapter1', 'subject': 'English', 'grade': '8th Standard', 'post_title': 'Chapter 1', 'post_description': 'The notes for chapter 1 have been uploaded', 'course_info': '8th Standard English', 'file_path': '/home/jovanzac/Jovan/OfflineProjects/Python/Machine_learning/RAG/Iris/ipynb_files/8_grade_texts/English/hehd101.pdf', 'file_name': 'hehd101.pdf', 'file_type': 'application/pdf', 'file_size': 2528583, 'creation_date': '2024-10-31', 'last_modified_date': '2024-10-31', 'page_number': 8, 'doc_type': 'Image', 'image_path': './Static/3175e28c-ac85-4933-b9aa-9789e1284589/figures/figure-8-52.jpg'}, hash=None), RelatedNodeInfo(node_id='04251c7f-fcaa-4e89-b8b7-722cf5eb5380', node_type=None, metadata={'chapter': 'Chapter1', 'subject': 'English', 'grade': '8th Standard', 'post_title': 'Chapter 1', 'post_description': 'The notes for chapter 1 have been uploaded', 'course_info': '8th Standard English', 'file_path': '/home/jovanzac/Jovan/OfflineProjects/Python/Machine_learning/RAG/Iris/ipynb_files/8_grade_texts/English/hehd101.pdf', 'file_name': 'hehd101.pdf', 'file_type': 'application/pdf', 'file_size': 2528583, 'creation_date': '2024-10-31', 'last_modified_date': '2024-10-31', 'page_number': 8, 'doc_type': 'Image', 'image_path': './Static/3175e28c-ac85-4933-b9aa-9789e1284589/figures/figure-8-53.jpg'}, hash=None)]}, text='She said nothing, but stroked the letter tenderly with her fingertips. Suddenly, she reached out and took my hand. Her eyes were filled with tears. \"You told me you\\'d come home by Christmas, dearest,\" she said. \"And here you are, the best Christmas present in the world. Come closer, Jim dear, sit down.\" I sat down beside her, and she kissed my cheek. \"I read your letter so often, Jim, every day. I wanted to hear your voice in my head. It always made me feel you were with me. And now you are. Now you\\'re back, you can read it to me yourself. Would you do that for me, Jim dear? I just want to hear your voice again. I\\'d love that so much. And then perhaps we\\'ll have some tea. I\\'ve made you a nice Christmas cake, marzipan all around.\"', mimetype='text/plain', start_char_idx=None, end_char_idx=None, text_template='{metadata_str}\\n\\n{content}', metadata_template='{key}: {value}', metadata_seperator='\\n')]"
      ]
     },
     "execution_count": 65,
     "metadata": {},
     "output_type": "execute_result"
    }
   ],
   "source": [
    "filtered_nodes = get_nodes_by_meta(\n",
    "    {\n",
    "        \"subject\": \"English\",\n",
    "        \"chapter\": \"Chapter1\",\n",
    "        \"doc_type\": \"Text\"\n",
    "    }\n",
    ")\n",
    "filtered_nodes\n",
    "# # Sort nodes in page number order\n",
    "# doc_nodes = sorted(filtered_nodes, key=lambda node: (node.metadata[\"chapter\"], node.metadata[\"page_number\"]))"
   ]
  },
  {
   "cell_type": "code",
   "execution_count": 66,
   "id": "96e53b2e",
   "metadata": {},
   "outputs": [
    {
     "data": {
      "text/plain": [
       "{'chapter': 'Chapter1',\n",
       " 'subject': 'English',\n",
       " 'grade': '8th Standard',\n",
       " 'post_title': 'Chapter 1',\n",
       " 'post_description': 'The notes for chapter 1 have been uploaded',\n",
       " 'course_info': '8th Standard English',\n",
       " 'file_path': '/home/jovanzac/Jovan/OfflineProjects/Python/Machine_learning/RAG/Iris/ipynb_files/8_grade_texts/English/hehd101.pdf',\n",
       " 'file_name': 'hehd101.pdf',\n",
       " 'file_type': 'application/pdf',\n",
       " 'file_size': 2528583,\n",
       " 'creation_date': '2024-10-31',\n",
       " 'last_modified_date': '2024-10-31',\n",
       " 'page_number': 1,\n",
       " 'doc_type': 'Text'}"
      ]
     },
     "execution_count": 66,
     "metadata": {},
     "output_type": "execute_result"
    }
   ],
   "source": [
    "filtered_nodes[0].metadata"
   ]
  },
  {
   "cell_type": "code",
   "execution_count": 67,
   "id": "d12cf612",
   "metadata": {},
   "outputs": [
    {
     "name": "stdout",
     "output_type": "stream",
     "text": [
      "1\n",
      "Before you read, there are some dates or periods of time in the history of the world that are so significant that everyone knows and remembers them. The story you will read mentions one such date and event: a war between the British and the Germans in 1914. Can you guess which war it was? Do you know which events the dates below refer to? (a) 4 July 1776, (b) 17 December 1903, (c) 6 August 1945, (d) 30 January 1948, (e) 12 April 1961, (f) 20 July 1969. The answers are on page 23.\n",
      "\n",
      "I spotted it from a a junk shop in Bridport, a roll-top desk. The man said it was early nineteenth century, and oak. It was going for a high price, but I thought it was selling for very little money because it was in a bad condition, the roll-top in several pieces, one leg clumsily mended, scorch marks all down one side. I thought I could restore it. It would be a risk, a challenge, but I had to have it. I paid the man and brought it back to my workroom at the back of the garage. I began work on it on Christmas Eve. I removed the roll-top completely and pulled out the drawers. The veneer had lifted almost everywhere — it was cheap wood.\n",
      "****************************************************************************************************\n",
      "2\n",
      "It looked like water damage to me. Both fire and water had clearly taken their toll on this desk. The last drawer was stuck fast. I tried all I could to ease it out gently. In the end, I used brute force. I struck it sharply with the side of my fist, and the drawer flew open to reveal a shallow space underneath, a secret drawer. There was something in there. I reached in and took out a small black tin box. Sello-taped to the top of it was a piece of lined notepaper, and written on it in shaky handwriting: “Jim’s last letter, received January 25, 1915. To be buried with me when the time comes.” I knew as I did it that it was wrong of me to open the box, but curiosity got the better of my scruples. It usually does. Inside the box, there was an envelope. The address read: “Mrs Jim Macpherson, 12 Copper Beeches, Bridport, Dorset.” I took out the letter and unfolded it. It was written in pencil and dated at the top — “December 26, 1914”.\n",
      "\n",
      "Comprehension Check:\n",
      "1. What did the author find in a junk shop?\n",
      "2. What did he find in a secret drawer? Who do you think had put it in there?\n",
      "\n",
      "II\n",
      "Dearest Connie,\n",
      "...\n",
      "****************************************************************************************************\n",
      "3\n",
      "Standing to attention, you, at once. We were all standing to attention in our trenches, taking up positions yesterday morning, Christmas morning. It was crisp and quiet all about, as beautiful a morning as I've ever seen, as cold and frosty as a Christmas morning should be. I should like to be able to tell you that we began it. But the truth, I'm ashamed to say, is that Fritz began it. \n",
      "\n",
      "First, someone saw a white flag waving from the trenches opposite. Then they were calling out to us from across no man's land, \"Happy Christmas, Tommy! Happy Christmas!\" When we had got over the surprise, some of us shouted back, \"Same to you, Fritz! Same to you!\" I thought that would be that. We all did. But then suddenly one of them was up there in his grey greatcoat and waving a white flag. \"Don't shoot, lads!\" someone shouted. And no one did. \n",
      "\n",
      "Then there was another Fritz up on the parapet, and another. \"Keep your heads down,\" I told the men, \"it's a trick.\" But it wasn't. One of the Germans was waving a bottle above his head. \"It is Christmas Day, Tommy. We have schnapps. We have sausage. We meet you? Yes?\" By this time, there were dozens of them walking towards us across no man's land, and not a rifle between them. Little Private Morris was the first up. \"Come on, boys. What are we waiting for?\" And then there was no stopping them. I was the officer. I should have stopped them there and then, I suppose, but the truth is that it never even occurred to me I should. \n",
      "\n",
      "All along their line and ours, I could see men walking slowly towards one another, grey coats, khaki coats meeting in the middle. And I was one of them. I was part of this. In the middle of the war, we were making peace. You cannot imagine, dearest Connie, my feelings as I looked into the eyes of the Fritz officer, who approached me, hand outstretched. \"Hans Wolf,\" he said, gripping my hand warmly and holding it. \"I am from Dusseldorf. I play the cello in the orchestra. Happy Christmas.\"\n",
      "****************************************************************************************************\n",
      "4\n",
      "“Captain Jim Macpherson,” I replied. “And a Happy Christmas to you too. I’m a school teacher from Dorset, in the west of England.” “Ah, Dorset,” he smiled. “I know this place. I know it very well.” We shared my rum ration and his excellent sausage. And we talked, Connie, how we talked. He spoke almost perfect English. But it turned out that he had never set foot in Dorset, never even been to England. He had learned all he knew of England from school, and from reading books in English. His favourite writer was Thomas Hardy, his favourite book Far from the Madding Crowd. So out there in no man’s land we talked of Bathsheba and Gabriel Oak and Sergeant Troy and Dorset. He had a wife and one son, born just six months ago. As I looked about me, there were huddles of khaki and grey everywhere, all over no man’s land, smoking, laughing, talking, drinking, eating. Hans Wolf and I shared what was left of your wonderful Christmas cake, Connie. He thought the marzipan was the best he had ever tasted. I agreed. We agreed about everything, and yet he was my enemy. There never was a Christmas party cake made like it, Connie. Then someone, I don’t know who, brought out a football. Greatcoats were dumped in piles to make goalposts, and the next thing we knew it was Tommy against Fritz out in the middle of no man’s land. Hans Wolf and I looked on and cheered, clapping our hands and stamping our feet, to keep out the cold as much as anything. There was a moment when I noticed our breaths mingling in the air between us. He saw it too and smiled. “Jim Macpherson,” he said after a while, “I think this is how we should resolve this war. A football match. No one dies in a football match. No children are orphaned. No wives become widows.” “I’d prefer cricket,” I told him. “Then we Tommies could be sure of winning, probably.” We laughed at that, and together we watched the game. Sad to say, it was a moment of peace in the midst of chaos.\n",
      "****************************************************************************************************\n",
      "5\n",
      "Connie, Fritz won two goals to one. But as Hans Wolf generously said, our goal was wider than theirs, so it wasn't quite fair. The time came, and all too soon, when the game was finished, the schnapps and the rum and the sausage had long since run out, and we knew it was all over. I wished Hans well and told him I hoped he would see his family again soon, that the fighting would end and we could all go home. \"I think that is what every soldier wants, on both sides,\" Hans Wolf said. \"Take care, Jim Macpherson. I shall never forget this moment, nor you.\" He saluted and walked away from me slowly, unwillingly, I felt. He turned to wave just once and then became one of the hundreds of grey-coated men drifting back towards their trenches. That night, back in our dugouts, we heard them singing a carol, and singing it quite beautifully. It was Stille Nacht, Silent Night. Our boys gave them a rousing chorus of While Shepherds Watched. We exchanged carols for a while and then we all fell silent. We had had our time of peace and goodwill, a time I will treasure as long as I live.\n",
      "****************************************************************************************************\n",
      "6\n",
      "Dearest Connie, by Christmas time next year, this war will be nothing but a distant and terrible memory. I know from all that happened today how much both armies long for peace. We shall be together again soon, I'm sure of it. Your loving, Jim.\n",
      "\n",
      "Comprehension Check:\n",
      "1. Who had written the letter, to whom, and when?\n",
      "2. Why was the letter written — what was the wonderful thing that had happened?\n",
      "3. What jobs did Hans Wolf and Jim Macpherson have when they were not soldiers?\n",
      "4. Had Hans Wolf ever been to Dorset? Why did he say he knew it?\n",
      "5. Do you think Jim Macpherson came back from the war? How do you know this?\n",
      "\n",
      "I folded the letter again and slipped it carefully back into its envelope. I kept awake all night. By morning I knew what I had to do. I drove into Bridport, just a few miles away. I asked a boy walking his dog where Copper Beeches was. House number 12 turned out to be a burned-out shell, the roof gaping, the windows destroyed and boarded-up. I knocked at the house next door and asked if anyone knew the whereabouts of a Mrs Macpherson.\n",
      "\n",
      "\"Oh, yes,\" said the old man in his slippers, \"he knew her well. A lovely old lady, a bit muddle-headed, but at her age she was entitled to be, wasn't she?\" A hundred and one years old. She had been in the house when it caught fire. No one really knew how the fire had started, but it could well have been candles. She used candles rather than electricity, because she always thought electricity was too expensive. The fireman had got her out just in time. She was in a nursing home now, Burlington House, on the Dorchester road, on the other side of town.\n",
      "****************************************************************************************************\n",
      "7\n",
      "Comprehension Check: 1. Why did the author go to Bridport? 2. How old was Mrs. Macpherson now? Where was she?\n",
      "\n",
      "I found Burlington House Nursing Home easily enough. There were paper chains up in the hallway, and a lighted Christmas tree stood in the corner with a lopsided angel on top. I said I was a friend come to visit Mrs. Macpherson to bring her a Christmas present. I could see through into the dining room where everyone was wearing a paper hat and singing. The matron had a hat on too and seemed happy enough to see me. She even offered me a lit-up mince pie. She walked me along the corridor, becoming bright with happiness and excitement. \"Mrs. Macpherson is not in with the others,\" she told me. \"She's rather confused today, so we thought it best if she had a good rest. She has no family, you know, no one visits. So I'm sure she'll be only too pleased to see you.\" She took me into a conservatory with wicker chairs and potted plants all around and left me.\n",
      "\n",
      "The old lady was sitting in a wheelchair, her hands folded in her lap. She had silver-white hair pinned into a wispy bun. She was gazing out at the garden. \"Hello,\" I said. She turned and looked up at me vacantly. \"Happy Christmas, Connie,\" I went on. \"I found this. I think it's yours.\" As I was speaking, her eyes never left my face. I opened the tin box and gave it to her. That was the moment her eyes lit up with recognition, and her face became suffused with a sudden glow of happiness. I explained about the desk, about how I had found it, but I don't think she was listening. For a while...\n",
      "****************************************************************************************************\n",
      "8\n",
      "She said nothing, but stroked the letter tenderly with her fingertips. Suddenly, she reached out and took my hand. Her eyes were filled with tears. \"You told me you'd come home by Christmas, dearest,\" she said. \"And here you are, the best Christmas present in the world. Come closer, Jim dear, sit down.\" I sat down beside her, and she kissed my cheek. \"I read your letter so often, Jim, every day. I wanted to hear your voice in my head. It always made me feel you were with me. And now you are. Now you're back, you can read it to me yourself. Would you do that for me, Jim dear? I just want to hear your voice again. I'd love that so much. And then perhaps we'll have some tea. I've made you a nice Christmas cake, marzipan all around.\"\n",
      "****************************************************************************************************\n"
     ]
    }
   ],
   "source": [
    "for doc in filtered_nodes :\n",
    "    print(doc.metadata[\"page_number\"])\n",
    "    print(doc.text, end=\"\\n\"+\"*\"*100+\"\\n\")"
   ]
  },
  {
   "cell_type": "markdown",
   "id": "70c8e56f",
   "metadata": {},
   "source": [
    "## Query Engine for QnA"
   ]
  },
  {
   "cell_type": "code",
   "execution_count": 70,
   "id": "03975fc4",
   "metadata": {},
   "outputs": [],
   "source": [
    "query_engine = RetrieverQueryEngine.from_args(fusion_retriever, llm=Settings.llm)"
   ]
  },
  {
   "cell_type": "code",
   "execution_count": 71,
   "id": "e62ea513",
   "metadata": {},
   "outputs": [],
   "source": [
    "qna_prompt_str = \"\"\"\n",
    "Context information is below.\n",
    "---------------------\n",
    "{context_str}\n",
    "---------------------\n",
    "Given the context information and not prior knowledge, answer the query. \n",
    "Make the response as descriptive as possible, including all relevant contexts provided.\n",
    "Do not format the response in any way.\n",
    "Query: {query_str}\n",
    "Answer:\n",
    "\"\"\""
   ]
  },
  {
   "cell_type": "code",
   "execution_count": 74,
   "id": "890a1f50",
   "metadata": {},
   "outputs": [],
   "source": [
    "new_qa_prompt = PromptTemplate(\n",
    "    qna_prompt_str\n",
    ")\n",
    "QA_PROMPT_KEY = \"response_synthesizer:text_qa_template\"\n",
    "# Overriding default prompt template for the query engine\n",
    "query_engine.update_prompts(\n",
    "    {QA_PROMPT_KEY: new_qa_prompt}\n",
    ")"
   ]
  },
  {
   "cell_type": "code",
   "execution_count": 75,
   "id": "5c890900",
   "metadata": {},
   "outputs": [
    {
     "name": "stdout",
     "output_type": "stream",
     "text": [
      "Generated queries:\n",
      "Here are three search queries related to the input query:\n",
      "What is the process of pollination in plants?\n",
      "How do bees and other insects contribute to pollination?\n",
      "What are the different types of pollination, including self-pollination and cross-pollination?\n"
     ]
    },
    {
     "data": {
      "text/plain": [
       "'The definition of pollination is the transfer of pollen from the anther to the stigma of a flower. This process occurs when insects visit flowers and carry away pollen on their bodies, and some of this pollen lands on the stigma of a flower of the same kind.'"
      ]
     },
     "execution_count": 75,
     "metadata": {},
     "output_type": "execute_result"
    }
   ],
   "source": [
    "query_str = \"What is the definition of pollination?\"\n",
    "\n",
    "response = query_engine.query(query_str)\n",
    "response.response"
   ]
  },
  {
   "cell_type": "markdown",
   "id": "2f60f051",
   "metadata": {},
   "source": [
    "## Defining the ReAct agent (The agent that decides and uses the necessary tools to carry out the task requested by the user)"
   ]
  },
  {
   "cell_type": "markdown",
   "id": "fd8b5acc",
   "metadata": {},
   "source": [
    "### Initializing the tool functions"
   ]
  },
  {
   "cell_type": "markdown",
   "id": "cc17a97c",
   "metadata": {},
   "source": [
    "#### a) For QnA"
   ]
  },
  {
   "cell_type": "code",
   "execution_count": 80,
   "id": "be63c688",
   "metadata": {},
   "outputs": [],
   "source": [
    "\"\"\"\n",
    "Used for QnA (Mode 1 of Iris)\n",
    "\"\"\"\n",
    "\n",
    "def rag_agent(user_query) :\n",
    "    \"\"\"Function to respond to user's questions and academic queries\"\"\"\n",
    "    print(f\"Responding to te user query: {user_query}\")\n",
    "    \n",
    "    response = query_engine.query(user_query)\n",
    "    return response.response.strip()\n",
    "    \n",
    "#     return \"The query has been successfully answered\"\n",
    "\n",
    "rag_tool = FunctionTool.from_defaults(\n",
    "    fn=rag_agent,\n",
    "    description= (\n",
    "        \"Used to respond to the user's questions and academic queries\"\n",
    "        \"Must be used to respond to any general question, query or doubt the user has on any academic subject or topic\"\n",
    "        \"Used for QnA type question answering.\"\n",
    "        \"The input to the tool should be in a JSON format representing the kwargs (e.g. {{'user_query': 'What is photosynthesis?'}})\"\n",
    "    )\n",
    ")"
   ]
  },
  {
   "cell_type": "code",
   "execution_count": 81,
   "id": "08d7c331",
   "metadata": {},
   "outputs": [
    {
     "name": "stdout",
     "output_type": "stream",
     "text": [
      "Responding to te user query: What is photosynthesis?\n",
      "Generated queries:\n",
      "Here are three search queries related to the input query \"What is photosynthesis?\":\n",
      "How does photosynthesis occur in plants?\n",
      "What are the importance and benefits of photosynthesis in nature?\n",
      "What are the reactants and products of the photosynthesis process?\n"
     ]
    },
    {
     "data": {
      "text/plain": [
       "'Photosynthesis is the process by which plants prepare their own food from simple substances like water, carbon dioxide, and minerals. It is a unique process that occurs in the presence of sunlight, and it is essential for the survival of almost all living organisms. During photosynthesis, plants use energy from sunlight to convert carbon dioxide and water into carbohydrates, which are complex chemical substances that serve as food for the plant. Oxygen is also produced as a byproduct of photosynthesis, which is released into the air and is essential for the survival of other living organisms.\\n\\nIn more detail, photosynthesis takes place in the leaves of plants, which are the food factories of plants. The leaves contain a green pigment called chlorophyll, which helps to capture the energy of sunlight. The energy from sunlight is used to convert carbon dioxide and water into carbohydrates, which are then stored in the plant as food. This process is represented by the equation: Water and sunlight + minerals + Carbon dioxide → Carbohydrate + Oxygen + chlorophyll.\\n\\nPhotosynthesis is a critical process that supports life on earth. Without photosynthesis, there would be no food for plants to grow, and ultimately, no food for animals and humans to eat. Additionally, the oxygen produced during photosynthesis is essential for the survival of other living organisms. In short, photosynthesis is the process by which plants make their own food, and it is the basis of life on earth.'"
      ]
     },
     "execution_count": 81,
     "metadata": {},
     "output_type": "execute_result"
    }
   ],
   "source": [
    "rag_agent(\"What is photosynthesis?\")"
   ]
  },
  {
   "cell_type": "markdown",
   "id": "024c0a87",
   "metadata": {},
   "source": [
    "#### b) For Word for Word retrieval"
   ]
  },
  {
   "cell_type": "code",
   "execution_count": 82,
   "id": "7b675d4b",
   "metadata": {},
   "outputs": [],
   "source": [
    "def number_to_ordinal(n):\n",
    "    if 10 <= n % 100 <= 20:  # Handle special case for teens\n",
    "        suffix = \"th\"\n",
    "    else:\n",
    "        suffix = {1: \"st\", 2: \"nd\", 3: \"rd\"}.get(n % 10, \"th\")\n",
    "    return f\"{n}{suffix}\""
   ]
  },
  {
   "cell_type": "code",
   "execution_count": 83,
   "id": "1dadb422",
   "metadata": {},
   "outputs": [],
   "source": [
    "def read_textbook(subject, chapter, num_pgs=3, include_imgs=False) :\n",
    "    \"\"\"Function to read out a textbook to the student\"\"\"\n",
    "    print(\"In read_textbook\")\n",
    "    text_nodes = get_nodes_by_meta(\n",
    "        {\n",
    "            \"subject\": subject,\n",
    "            \"chapter\": chapter,\n",
    "            \"doc_type\": \"Text\"\n",
    "        }\n",
    "    )\n",
    "    \n",
    "    if include_imgs :\n",
    "        img_nodes = get_nodes_by_meta(\n",
    "            {\n",
    "                \"subject\": subject,\n",
    "                \"chapter\": chapter,\n",
    "                \"doc_type\": \"Image\"\n",
    "            }\n",
    "        )\n",
    "    else :\n",
    "        img_nodes = []\n",
    "    \n",
    "    response = \"\"\n",
    "    for node in text_nodes[:num_pgs] :\n",
    "        pg_no = node.metadata[\"page_number\"]\n",
    "        response += f\"\\n\\nStarting page {pg_no}..\\n\\n\"\n",
    "        response += node.text + \"\\n\\n\"\n",
    "        if img_nodes :\n",
    "            response += \"\\nThere are {num_imgs} images in page {pg_no}\\n\\n\"\n",
    "\n",
    "            img_count = 0\n",
    "            while img_nodes[0].metadata[\"page_number\"] == pg_no :\n",
    "                img_count += 1\n",
    "                response += f\"The {number_to_ordinal(img_count)} image is:\\n\"\n",
    "                response += img_nodes[0].text + \"\\n\\n\"\n",
    "                img_nodes.pop(0)\n",
    "\n",
    "            response = response.format(\n",
    "                num_imgs = img_count,\n",
    "                pg_no = pg_no\n",
    "            )\n",
    "        \n",
    "        response += f\"This is the end of page {pg_no}\\n\"\n",
    "    \n",
    "        \n",
    "    return str(response)"
   ]
  },
  {
   "cell_type": "code",
   "execution_count": 86,
   "id": "8cdefea9",
   "metadata": {},
   "outputs": [
    {
     "name": "stdout",
     "output_type": "stream",
     "text": [
      "In read_textbook\n",
      "\n",
      "\n",
      "Starting page 1..\n",
      "\n",
      "10 Electric Current and its Effects\n",
      "\n",
      "You might have tried the game 'How steady is your hand?' suggested in Chapter 9 of Class VI. If not, you may try it out now. Some common electric components can be represented by symbols. In Table 10.1, some electric components and their symbols are shown. You may come across different symbols for these components in different books. However, in this book, we shall be using the symbols shown here.\n",
      "\n",
      "Paheli and Boojho had also set up the game by connecting an electric circuit as suggested in Class VI. They had lots of fun trying it out with their families and friends. They enjoyed it so much that they decided to suggest it to a cousin of theirs who stayed in a different town. So, Paheli made a neat drawing showing how the various electric components were to be connected (Fig. 10.1).\n",
      "\n",
      "Look at the symbols carefully. In the symbol for the electric cell, notice that there is a longer line and a shorter but thicker parallel line. Do you recall that an electric cell has a positive terminal and a negative terminal? In the symbol of the electric cell, the longer line represents the positive terminal, and the thicker, shorter line represents the negative terminal. For a switch, the 'ON' position and the 'OFF' position are represented by the symbols as shown. The wires used to connect the various components in a circuit are represented by lines. In Table 10.1, a battery and its symbol are also shown. Do you know what a battery is? Look at the symbol of a battery. Can you make out what a battery could be?\n",
      "\n",
      "For some of the activities, we may need more than one cell. So, we connect two or more cells together as shown in Fig. 10.2. Notice that...\n",
      "\n",
      "\n",
      "There are 2 images in page 1\n",
      "\n",
      "The 1st image is:\n",
      "The image has two yellow keys, one on the left and one on the right. There are also two crotchets, one below the left key and another above the right key, which the keys might be hooked on or attached to. A ruler can be found next to some of these objects, possibly showing measurements or leading to them.\n",
      "\n",
      "The 2nd image is:\n",
      "The image features a scan of barcodes for two separate objects. There are three black-and-white QR codes, all arranged within a common rectangle-shaped space. The codes appear to be in close proximity to each other, suggesting they might be part of a larger design or form on a card or paper. These barcodes offer a unique identification number for the two objects.\n",
      "\n",
      "This is the end of page 1\n",
      "\n",
      "\n",
      "Starting page 2..\n",
      "\n",
      "Table 10.1 Symbols for some devices such as torches, electric circuit components, transistors, toys, TV remote controls, use batteries. However, in some of these devices, the electric cells are not always placed one after the other as shown in Fig. 10.2. Sometimes the cells are placed side by side. Then how are the terminals of the cells connected? Look carefully inside the battery compartment of any device. There is usually a thick wire or a metal strip connecting the positive terminal of one cell to the negative terminal of the next cell (Fig. 10.3). In order to help you to place the cells correctly in the battery compartment, '+' and '-' symbols are usually printed there. How can we connect the cells to prepare batteries for our activities? You may make a cell holder, as shown in Fig. 10.4, using a wooden block, two iron strips, and rubber bands. It is necessary that the positive terminal of one cell is connected to the negative terminal of the next cell. Such a combination of two or more cells is called a battery.\n",
      "\n",
      "S.No. Electric component Symbol\n",
      "1. Electric cell\n",
      "2. Electric bulb\n",
      "3. Switch in 'ON' position\n",
      "4. Switch in 'OFF' position\n",
      "5. Battery\n",
      "6. Wire\n",
      "\n",
      "Fig. 10.2 (a) A battery of two cells (b) A battery of four cells\n",
      "Fig. 10.3 Connecting two cells together to make a battery\n",
      "Fig. 10.4 A cell holder\n",
      "\n",
      "\n",
      "There are 10 images in page 2\n",
      "\n",
      "The 1st image is:\n",
      "The image is white and pink with a curled end. Above the visuals, there are two long pink lines attached. One of the lines has symbols on it. Inside the white background, the pink lines create the illusion of a circle and a hexagon. The curled red cord appears to be glued to the white background, but there is no representation of anything else or people in this picture.\n",
      "\n",
      "The 2nd image is:\n",
      "The image presents a yellow rope that resembles a boat, covered in tight banners showing yellow, red, and blue. The length of the rope stretches across the entire area of the image. The design on the edge of the brown rope almost resembles a boat and seems colorful and large. The rope is not very thick, but the multicolored bananas on top enhance its vibrancy.\n",
      "\n",
      "The 3rd image is:\n",
      "This is a picture of a yellow light bulb. The yellow light bulb, which is small and light shining bulb, is turned on. It's sitting in the middle of the scene, and its light shined brightly.\n",
      "\n",
      "The 4th image is:\n",
      "The image shows a single black dot in a white space. The dot is the main focus and it appears at the center of the scene. There is an empty white block adjacent to the black dot, which could be described as a pair of stools. These stools seem to be plopped up off the ground, floating in the surroundings.\n",
      "\n",
      "The 5th image is:\n",
      "A battery is sitting on an empty white background. The battery is yellow and red, and can be round or cylindrical in shape. It is connected to objects it uses and contains energy.\n",
      "\n",
      "The 6th image is:\n",
      "In this image, there's a black string striding over a blank page. It has a shape similar to a yellow circle or something that looks like a TV on it. This pattern is connected to the overall setting where other shapes, likely representing some kind of machine, are also tangled. They appear to be sitting on each other, creating the impression of a pile of something or other. Each part of the theme looks interesting and captivating, making this an intriguing photo.\n",
      "\n",
      "The 7th image is:\n",
      "The red lines are on each end of the yellow strip. They are close to each other, creating the appearance of one large bar. The red lines make it look dangerous if crossed. The yellow strip seems to be a type of battery or electrical cord. It looks warm, almost like a tangerine cottontail mouse when not used. This looks like a combination of a red and yellow cable, making an interesting and colorful texture.\n",
      "\n",
      "The 8th image is:\n",
      "There are six cylindrical objects, three red in color and three green. They are all situated next to each other, seemingly on a surface. These objects have short green ends and are connected by red wires, making the scene quite unique and interesting. The contrast between the reds and green colors, along with the cord arrangement, brings a playful element to the image.\n",
      "\n",
      "The 9th image is:\n",
      "In the image, a machine-like tool is holding a hooker with yellow screws and a long red cord. The color palette includes white surfaces and lots of red cords. One can imagine the scene as a place where one might be working to fix something that includes a bunch of different colored cords.\n",
      "\n",
      "The 10th image is:\n",
      "The image features a red, yellow, and black electrical wire with two coils on the side. The electrical wire consists of three parts and is inserted into an electric socket. The coils on either end have cords wrapping around them, giving the impression they are super twisted strings from two rubber bands. The colored cords are twisted together and create a unique twisted shape. The image shows an intimate and close-up view of these wires inside the socket, and it might be needed for electricity usage.\n",
      "\n",
      "This is the end of page 2\n",
      "\n",
      "\n",
      "Starting page 3..\n",
      "\n",
      "Terminal of one cell is connected to the negative terminal of the next cell. Connect a piece of wire to each of the two metal clips on the cell holder as shown in Fig. 10.5. Your battery is ready for use. The symbol used for representing a battery is shown in Table 10.1. Let us now draw a circuit diagram of an electric circuit using symbols shown in Table 10.1. Activity 10.1: Make the electric circuit shown in Fig. 10.7. You used a similar circuit in Class VI to make an electric bulb glow. Do you remember that the bulb glows only when the switch is in the 'ON' position? The bulb glows as soon as the switch is moved to the 'ON' position. You could also buy cell holders from the market for making batteries of two or more electric cells. Place the cells in them properly, such that the positive terminal of one cell is connected to the negative terminal of the next cell. The rubber bands hold the metal strips tightly. Copy this electric circuit in your notebook. Make also a circuit diagram of this circuit using symbols for the various electric components. Is your diagram similar to the one shown in Fig. 10.8? It is much easier to draw a circuit diagram using symbols. Therefore, we generally represent an electric circuit by its circuit diagram. Paheli and Boojho wonder whether the batteries used in tractors, trucks, and inverters are also made from cells. Then why is it called a battery? Can you help them to find the answer to this question? Fig. 10.9 shows another circuit diagram. Is it identical to the circuit diagram shown in Fig. 10.8? In which way is it different? Would the bulb glow in this electric circuit? Recall that the bulb glows only when the switch is in the 'ON' position and the electric circuit is closed.\n",
      "\n",
      "\n",
      "There are 3 images in page 3\n",
      "\n",
      "The 1st image is:\n",
      "The scene shows a black electronic component with pink wires coming from it. The closer side of the wire is pink, while the other side is red. A white surface provides a contrasting background for the vibrant colors of the piece. This component exhibits some sort of wires, possibly meant for charging, giving the impression that the object has springs or other inner components. Overall, the image gives off an electric and advanced technological vibe.\n",
      "\n",
      "The 2nd image is:\n",
      "The image features a yellow object on a wooden table. The yellow cylinder has a red trim\n",
      "and is measuring about six inches in length. This creatively shaped measuring apparatus is visually interesting and might be used for accurately gauging something on the table.\n",
      "\n",
      "The 3rd image is:\n",
      "The image features blue and green power packs. In addition to the blue and green combination, the power packs have two small silver units beneath them. The power packs are situated in a black case that looks like a big brick or wall. Five of these small machines are in the scene, and their positions vary. One large shape below acts as a container, holding and displaying these devices. Two more smaller shapes found on the bottom side can be seen.\n",
      "\n",
      "This is the end of page 3\n",
      "\n"
     ]
    }
   ],
   "source": [
    "# Readig out pages of the textbook\n",
    "print(read_textbook(\"Science\", \"Chapter10\", num_pgs=3, include_imgs=True))"
   ]
  },
  {
   "cell_type": "code",
   "execution_count": 108,
   "id": "d662004a",
   "metadata": {},
   "outputs": [],
   "source": [
    "wfw_tool = FunctionTool.from_defaults(\n",
    "    fn=read_textbook,\n",
    "    description=(\n",
    "        \"Used to read out textbooks or certain parts of textbooks\"\n",
    "        \"Do not summarize or simplify the output if this tool is used and return it WORD FOR WORD\"\n",
    "        \"If the user query mentions keywords like 'read-out', 'read for me' or something similar, this tool is used\"\n",
    "        \"The input to the tool should be in a JSON format representing the kwargs (e.g. {{'subject': 'English', 'chapter': 'Chapter1', 'num_pgs': 3, 'include_imgs': False}})\"\n",
    "    )\n",
    ")"
   ]
  },
  {
   "cell_type": "markdown",
   "id": "3cb4de90",
   "metadata": {},
   "source": [
    "#### c) For Quiz mode"
   ]
  },
  {
   "cell_type": "code",
   "execution_count": 88,
   "id": "77ed6eb9",
   "metadata": {},
   "outputs": [],
   "source": [
    "quiz_sys_prompt = \"\"\"\n",
    "## INSTRUCTIONS\n",
    "You are a quiz master whose sole responsibility is to create a set of **random multiple-choice questions (MCQs)** based on the context provided in the section titled \"CONTEXT.\" \n",
    "The purpose of these questions is to test the user's knowledge of the subject comprehensively.\n",
    "\n",
    "Try to ask questions on different subjects and include as much variety as possible. Questions must come from\n",
    "different themes and topics in the context as far as possible.\n",
    "\n",
    "You are to generate exactly {num_qns} questions based only on the provided context. \n",
    "The generated questions and options must strictly follow the format specified in the section titled \"OUTPUT FORMAT.\"\n",
    "\n",
    "\n",
    "### RULES\n",
    "1. Do NOT include any text or explanation other than what is explicitly specified in \"OUTPUT FORMAT\".\n",
    "2. Ensure all generated questions are strictly related to the \"CONTEXT\" and avoid introducing external information.\n",
    "3. The questions should vary in type (e.g., conceptual, factual, or application-based) to test a range of understanding.\n",
    "4. Each question must have exactly four options. Ensure that:\n",
    "   - Only **one option is correct**.\n",
    "   - The other three options are plausible yet incorrect.\n",
    "5. The difficulty level of the questions should be balanced across the set (easy, moderate, and challenging).\n",
    "6. The numbering of questions must range from 1 to {num_qns}.\n",
    "\n",
    "\n",
    "### OUTPUT FORMAT\n",
    "[\n",
    "    {{\n",
    "        \"question_no\": <Question number from 1 to {num_qns}>,\n",
    "        \"question\": <A relevant question based on the provided context>,\n",
    "        \"option1\": <The first option>,\n",
    "        \"option2\": <The second option>,\n",
    "        \"option3\": <The third option>,\n",
    "        \"option4\": <The fourth option>,\n",
    "        \"correct_option\": <The correct option from \"option1\", \"option2\", \"option3\", or \"option4\">\n",
    "    }},\n",
    "]\n",
    "\n",
    "### CONTEXT\n",
    "{context_str}\n",
    "\"\"\""
   ]
  },
  {
   "cell_type": "code",
   "execution_count": 98,
   "id": "f42699cb",
   "metadata": {},
   "outputs": [],
   "source": [
    "def generate_quiz_qns(subject, chapter, num_qns=10) :\n",
    "    \"\"\"Function to create a set of random MCQ quiz/test questions\"\"\"\n",
    "    print(\"In generate_quiz_qns\")\n",
    "    text_nodes = get_nodes_by_meta(\n",
    "        {\n",
    "            \"subject\": subject,\n",
    "            \"chapter\": chapter,\n",
    "            \"doc_type\": \"Text\"\n",
    "        }\n",
    "    )\n",
    "    \n",
    "    context_str = \"\\n\\n\".join([node.text for node in text_nodes])\n",
    "    \n",
    "    prompt = quiz_sys_prompt.format(\n",
    "        context_str=context_str,\n",
    "        num_qns=num_qns\n",
    "    )\n",
    "    start_time = time.time()\n",
    "    llm_response = Settings.llm.complete(prompt).text\n",
    "    end_time = time.time()\n",
    "    elapsed_time = end_time - start_time\n",
    "    print(f\"The LLm call took {elapsed_time:.4f} seconds to run.\")\n",
    "    \n",
    "    # Extracting the questions from the response\n",
    "    pattern = r'\\{\\s*\"question_no\".*?\\}'\n",
    "    matches = re.findall(pattern, llm_response, re.DOTALL)\n",
    "#     print(matches)\n",
    "    questions = [json.loads(match) for match in matches]\n",
    "    \n",
    "    return questions, llm_response, matches"
   ]
  },
  {
   "cell_type": "code",
   "execution_count": 99,
   "id": "4fcb9151",
   "metadata": {
    "scrolled": true
   },
   "outputs": [
    {
     "name": "stdout",
     "output_type": "stream",
     "text": [
      "In generate_quiz_qns\n",
      "The LLm call took 3.9091 seconds to run.\n"
     ]
    },
    {
     "data": {
      "text/plain": [
       "[{'question_no': 1,\n",
       "  'question': 'What is the purpose of a clinical thermometer?',\n",
       "  'option1': 'To measure the temperature of any object',\n",
       "  'option2': 'To measure the temperature of the human body only',\n",
       "  'option3': 'To measure the temperature of hot milk',\n",
       "  'option4': 'To measure the temperature of the surroundings',\n",
       "  'correct_option': 'option2'},\n",
       " {'question_no': 2,\n",
       "  'question': 'Why should we not use a clinical thermometer to measure the temperature of hot milk?',\n",
       "  'option1': 'Because it is not designed for that purpose',\n",
       "  'option2': 'Because it is not accurate',\n",
       "  'option3': 'Because it is too expensive',\n",
       "  'option4': 'Because it is too big',\n",
       "  'correct_option': 'option1'},\n",
       " {'question_no': 3,\n",
       "  'question': 'What is the range of a clinical thermometer?',\n",
       "  'option1': 'From -10°C to 110°C',\n",
       "  'option2': 'From 35°C to 42°C',\n",
       "  'option3': 'From 0°C to 100°C',\n",
       "  'option4': 'From -20°C to 50°C',\n",
       "  'correct_option': 'option2'},\n",
       " {'question_no': 4,\n",
       "  'question': 'What is the process by which heat is transferred from the hotter end to the colder end of an object?',\n",
       "  'option1': 'Convection',\n",
       "  'option2': 'Conduction',\n",
       "  'option3': 'Radiation',\n",
       "  'option4': 'Insulation',\n",
       "  'correct_option': 'option2'},\n",
       " {'question_no': 5,\n",
       "  'question': 'What is the use of the kink near the bulb in a clinical thermometer?',\n",
       "  'option1': 'To prevent the mercury level from falling on its own',\n",
       "  'option2': 'To increase the accuracy of the thermometer',\n",
       "  'option3': 'To make the thermometer more durable',\n",
       "  'option4': 'To make the thermometer more portable',\n",
       "  'correct_option': 'option1'},\n",
       " {'question_no': 6,\n",
       "  'question': 'What happens when a hotter object is brought in contact with a colder object?',\n",
       "  'option1': 'Heat flows from the colder object to the hotter object',\n",
       "  'option2': 'Heat flows from the hotter object to the colder object',\n",
       "  'option3': 'No heat is transferred',\n",
       "  'option4': 'The temperature of both objects remains the same',\n",
       "  'correct_option': 'option2'},\n",
       " {'question_no': 7,\n",
       "  'question': 'Why do we feel warm when we wear dark-coloured clothes in winter?',\n",
       "  'option1': 'Because dark surfaces reflect more heat',\n",
       "  'option2': 'Because dark surfaces absorb more heat',\n",
       "  'option3': 'Because dark surfaces transmit more heat',\n",
       "  'option4': 'Because dark surfaces insulate more heat',\n",
       "  'correct_option': 'option2'},\n",
       " {'question_no': 8,\n",
       "  'question': 'What is the purpose of using hollow bricks in building construction?',\n",
       "  'option1': 'To make the building more durable',\n",
       "  'option2': 'To make the building more aesthetically pleasing',\n",
       "  'option3': 'To reduce the effect of heat and cold outside',\n",
       "  'option4': 'To increase the cost of construction',\n",
       "  'correct_option': 'option3'},\n",
       " {'question_no': 9,\n",
       "  'question': 'Why do we prefer to wear light-coloured clothes in summer?',\n",
       "  'option1': 'Because they absorb more heat',\n",
       "  'option2': 'Because they reflect more heat',\n",
       "  'option3': 'Because they transmit more heat',\n",
       "  'option4': 'Because they insulate more heat',\n",
       "  'correct_option': 'option2'},\n",
       " {'question_no': 10,\n",
       "  'question': 'What is the process by which heat is transferred from the sun to the earth?',\n",
       "  'option1': 'Conduction',\n",
       "  'option2': 'Convection',\n",
       "  'option3': 'Radiation',\n",
       "  'option4': 'Insulation',\n",
       "  'correct_option': 'option3'}]"
      ]
     },
     "metadata": {},
     "output_type": "display_data"
    },
    {
     "name": "stdout",
     "output_type": "stream",
     "text": [
      "The code took 4.2223 seconds to run.\n"
     ]
    }
   ],
   "source": [
    "start_time = time.time()\n",
    "questions, llm_response, matches = generate_quiz_qns(\"Science\", \"Chapter3\")\n",
    "display(questions)\n",
    "end_time = time.time()\n",
    "elapsed_time = end_time - start_time\n",
    "print(f\"The code took {elapsed_time:.4f} seconds to run.\")"
   ]
  },
  {
   "cell_type": "markdown",
   "id": "13a2b63e",
   "metadata": {},
   "source": [
    "#### d) Other \"hooks\" (tools to do other tasks lie sending mail or telegram message)"
   ]
  },
  {
   "cell_type": "code",
   "execution_count": 100,
   "id": "4013ef69",
   "metadata": {},
   "outputs": [],
   "source": [
    "def send_mail(to, body) :\n",
    "    \"\"\"Function to send mail\"\"\"\n",
    "    print(f\"Sending Mail to {to} with the body:\\n {body}\")\n",
    "    return \"Your mail has been successfully sent\"\n",
    "\n",
    "send_mail_tool = FunctionTool.from_defaults(\n",
    "    fn=send_mail,\n",
    "    description= (\n",
    "        \"Used to send emails.\"\n",
    "        \"The input to the tool should be in a JSON format representing the kwargs (e.g. {{'to': 'Sarat', 'body': 'Hey, how are you?'}})\"\n",
    "    )\n",
    ")"
   ]
  },
  {
   "cell_type": "code",
   "execution_count": 101,
   "id": "3aa93624",
   "metadata": {},
   "outputs": [],
   "source": [
    "def send_telegram(to, body) :\n",
    "    \"\"\"Function to send a telegram message\"\"\"\n",
    "    print(f\"Sending telegram message to {to} with the body:\\n {body}\")\n",
    "    return \"Your telegram message has been successfully sent\"\n",
    "\n",
    "send_telegram_tool = FunctionTool.from_defaults(\n",
    "    fn=send_telegram,\n",
    "    description= (\n",
    "        \"Used to send messages to contacts on telegram.\"\n",
    "        \"The input to the tool should be in a JSON format representing the kwargs (e.g. {{'to': 'Sarat', 'body': 'Hey, how are you?'}})\"\n",
    "    )\n",
    ")"
   ]
  },
  {
   "cell_type": "code",
   "execution_count": 102,
   "id": "78d949f6",
   "metadata": {},
   "outputs": [],
   "source": [
    "def send_whatsapp(to, body) :\n",
    "    \"\"\"Function to send a whatsapp message\"\"\"\n",
    "    print(f\"Sending whatsapp message to {to} with the body:\\n {body}\")\n",
    "    return \"Your whatsapp message has been successfully sent\"\n",
    "\n",
    "send_whatsapp_tool = FunctionTool.from_defaults(\n",
    "    fn=send_whatsapp,\n",
    "    description= (\n",
    "        \"Used to send messages to contacts on whatsapp.\"\n",
    "        \"The input to the tool should be in a JSON format representing the kwargs (e.g. {{'to': 'Sarat', 'body': 'Hey, how are you?'}})\"\n",
    "    )\n",
    ")"
   ]
  },
  {
   "cell_type": "markdown",
   "id": "f15b583e",
   "metadata": {},
   "source": [
    "### Setting up the ReAct agent"
   ]
  },
  {
   "cell_type": "code",
   "execution_count": 114,
   "id": "1574e13a",
   "metadata": {},
   "outputs": [],
   "source": [
    "react_tools = [\n",
    "    send_whatsapp_tool,\n",
    "    rag_tool,\n",
    "    send_mail_tool,\n",
    "    send_telegram_tool,\n",
    "    wfw_tool\n",
    "]"
   ]
  },
  {
   "cell_type": "code",
   "execution_count": 115,
   "id": "f1b23aa5",
   "metadata": {},
   "outputs": [],
   "source": [
    "agent = ReActAgent.from_tools(\n",
    "    tools=react_tools,\n",
    "    llm=Settings.llm,\n",
    "    memory=False,\n",
    "    verbose=True\n",
    ")"
   ]
  },
  {
   "cell_type": "code",
   "execution_count": 116,
   "id": "196dba01",
   "metadata": {},
   "outputs": [],
   "source": [
    "react_system_header_str = \"\"\"\\\n",
    "\n",
    "You are designed to help with a variety of tasks, from answering questions \\\n",
    "    to providing summaries to other types of analyses.\n",
    "\n",
    "## Tools\n",
    "You have access to a wide variety of tools. You are responsible for using\n",
    "the tools in any sequence you deem appropriate to complete the task at hand.\n",
    "This may require breaking the task into subtasks and using different tools\n",
    "to complete each subtask.\n",
    "\n",
    "You have access to the following tools:\n",
    "{tool_desc}\n",
    "\n",
    "## Output Format\n",
    "To answer the question, please use the following format.\n",
    "\n",
    "```\n",
    "Thought: I need to use a tool to help me answer the question.\n",
    "Action: tool name (one of {tool_names}) if using a tool.\n",
    "Action Input: the input to the tool, in a JSON format representing the kwargs (e.g. {{\"input\": \"hello world\", \"num_beams\": 5}})\n",
    "```\n",
    "\n",
    "Please ALWAYS start with a Thought.\n",
    "\n",
    "Please use a valid JSON format for the Action Input. Do NOT do this {{'input': 'hello world', 'num_beams': 5}}.\n",
    "\n",
    "If this format is used, the user will respond in the following format:\n",
    "\n",
    "```\n",
    "Observation: tool response\n",
    "```\n",
    "\n",
    "You should keep repeating the above format until you have enough information\n",
    "to answer the question without using any more tools. At that point, you MUST respond\n",
    "in the one of the following two formats:\n",
    "\n",
    "```\n",
    "Thought: I can answer without using any more tools.\n",
    "Answer: [your answer here (Include all the complete observations))]\n",
    "```\n",
    "\n",
    "```\n",
    "Thought: I cannot answer the question with the provided tools.\n",
    "Answer: Sorry, I cannot answer your query.\n",
    "```\n",
    "\n",
    "If you get an error, you MUST respond using this format:\n",
    "\n",
    "```\n",
    "Thought: I got an error/issue\n",
    "Answer: [Explain the error in detail here]\n",
    "```\n",
    "\n",
    "## Additional Rules\n",
    "- The answer use the informaton in the most recent observation to curate a detailed(if necessary) and clear response\n",
    "- You MUST obey the function signature of each tool. Do NOT pass in no arguments if the function expects arguments.\n",
    "- You MUST obey the rules stipulated in the descriptions of each tool.\n",
    "- If the tool rag_agent was used, the complete information in its observation must be returned to the user.\n",
    "- Do NOT summarize or simplify the output of any tools. Return the output of the tool WORD FOR WORD.\n",
    "\n",
    "## Current Conversation\n",
    "Below is the current conversation consisting of interleaving human and assistant messages.\n",
    "\n",
    "\"\"\"\n",
    "react_system_prompt = PromptTemplate(react_system_header_str)"
   ]
  },
  {
   "cell_type": "code",
   "execution_count": 117,
   "id": "0e4fa6a6",
   "metadata": {},
   "outputs": [],
   "source": [
    "agent.update_prompts({\"agent_worker:system_prompt\": react_system_prompt})\n",
    "agent.reset()"
   ]
  },
  {
   "cell_type": "code",
   "execution_count": 118,
   "id": "c87994f8",
   "metadata": {},
   "outputs": [
    {
     "name": "stdout",
     "output_type": "stream",
     "text": [
      "> Running step e5c985ad-3cf4-42ab-badb-8d2a055cd584. Step input: Read out chapter 3 of English?\n",
      "\u001b[1;3;38;5;200mThought: I need to use a tool to help me answer the question.\n",
      "Action: read_textbook\n",
      "Action Input: {'subject': 'English', 'chapter': 'Chapter3', 'num_pgs': 3, 'include_imgs': False}\n",
      "\u001b[0mIn read_textbook\n",
      "\u001b[1;3;34mObservation: \n",
      "\n",
      "Starting page 1..\n",
      "\n",
      "Before you read, here are some pictorial glimpses of the history of our country from 1757 to 1857. These pictures and 'speech bubbles' will help clarify your understanding of the conditions that led to the event known as the First War of Independence in 1857.\n",
      "\n",
      "At a function in Delhi:\n",
      "\n",
      "1. The Martyrs: Oh, my countrymen! Let your eyes fill with tears as you recall the sacrifices of India's martyrs.\n",
      "\n",
      "This is the end of page 1\n",
      "\n",
      "\n",
      "Starting page 2..\n",
      "\n",
      "2. The Company's conquests (1757-1849)\n",
      "\n",
      "With its superior weapons, the East India Company was extending its power in 18th century India. The British Indian princes were short-sighted. \"Call the English merchants. They will help me to defeat him,\" they said. INDIA 1765 Indian Princes British Territory The people had no peace due to such constant fights.\n",
      "\n",
      "A far-seeing ruler like the brave Tipu of Mysore fought the British till he died fighting! The rivalries helped the East India Company, and it could easily subdue Indian princes one by one.\n",
      "\n",
      "How did Indians react to these conquests? Some kings were not good, but after all, they were of this land. \"Thank God, there is peace in the country now! No more wars and no looting,\" they said. \"Our destiny is linked with our kings. It is God who sent the British! Now we have become slaves of foreigners!\"\n",
      "\n",
      "Glimpses of the Past\n",
      "\n",
      "This is the end of page 2\n",
      "\n",
      "\n",
      "Starting page 3..\n",
      "\n",
      "3. British Rule (1765-1836)\n",
      "\n",
      "Religious leaders preached ideas like untouchability and child marriage. Anyone who crosses the seas loses his religion. All the misery in the world is due to women. The truth was that Indians had lost self-respect. Being merchants, the British wanted quick profits; their heavy taxes forced farmers to abandon their fields. \"You are still in arrears. If you don't pay next week, I will send you to jail.\" The natives are unworthy of trust, incapable of honesty – \"True, your honour, but I am honest.\" Inevitably, famines followed. Between 1822 and 1836, fifteen lakh Indians died of starvation. Still, the British invented other methods which gave them more profits. The British policies ruined the expert artisans and their business. The goods manufactured in England should not have any import duty when brought into India. The East India Company's laws began to cripple Indian industries.\n",
      "\n",
      "This is the end of page 3\n",
      "\n",
      "\u001b[0m> Running step 86daed29-a2ea-4d15-bb54-a5cc5b55a65f. Step input: None\n",
      "\u001b[1;3;38;5;200mThought: I can answer without using any more tools.\n",
      "Answer: The chapter 3 of English textbook has been read out, which includes pictorial glimpses of the history of India from 1757 to 1857, the conquests of the East India Company, the reactions of Indians to these conquests, the British rule from 1765 to 1836, and its effects on Indian society, including the imposition of heavy taxes, famines, and the ruin of Indian industries.\n",
      "\u001b[0mThe chapter 3 of English textbook has been read out, which includes pictorial glimpses of the history of India from 1757 to 1857, the conquests of the East India Company, the reactions of Indians to these conquests, the British rule from 1765 to 1836, and its effects on Indian society, including the imposition of heavy taxes, famines, and the ruin of Indian industries.\n"
     ]
    }
   ],
   "source": [
    "response = agent.chat(\"Read out chapter 3 of English?\")\n",
    "print(response)"
   ]
  },
  {
   "cell_type": "code",
   "execution_count": null,
   "id": "f92fcf1b",
   "metadata": {},
   "outputs": [],
   "source": []
  }
 ],
 "metadata": {
  "kernelspec": {
   "display_name": "iris",
   "language": "python",
   "name": "iris"
  },
  "language_info": {
   "codemirror_mode": {
    "name": "ipython",
    "version": 3
   },
   "file_extension": ".py",
   "mimetype": "text/x-python",
   "name": "python",
   "nbconvert_exporter": "python",
   "pygments_lexer": "ipython3",
   "version": "3.10.13"
  }
 },
 "nbformat": 4,
 "nbformat_minor": 5
}
